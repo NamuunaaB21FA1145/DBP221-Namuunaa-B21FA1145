{
 "cells": [
  {
   "cell_type": "code",
   "execution_count": 1,
   "id": "fb204639",
   "metadata": {},
   "outputs": [],
   "source": [
    "import numpy as np\n",
    "\n",
    "#Seasons\n",
    "Seasons = [\"2005\",\"2006\",\"2007\",\"2008\",\"2009\",\"2010\",\"2011\",\"2012\",\"2013\",\"2014\"]\n",
    "Sdict = {\"2005\":0,\"2006\":1,\"2007\":2,\"2008\":3,\"2009\":4,\"2010\":5,\"2011\":6,\"2012\":7,\"2013\":8,\"2014\":9}\n",
    "\n",
    "#Players\n",
    "Players = [\"KobeBryant\",\"JoeJohnson\",\"LeBronJames\",\"CarmeloAnthony\",\"DwightHoward\",\"ChrisBosh\",\"ChrisPaul\",\"KevinDurant\",\"DerrickRose\",\"DwayneWade\"]\n",
    "Pdict = {\"KobeBryant\":0,\"JoeJohnson\":1,\"LeBronJames\":2,\"CarmeloAnthony\":3,\"DwightHoward\":4,\"ChrisBosh\":5,\"ChrisPaul\":6,\"KevinDurant\":7,\"DerrickRose\":8,\"DwayneWade\":9}\n",
    "\n",
    "#Salaries\n",
    "KobeBryant_Salary = [15946875,17718750,19490625,21262500,23034375,24806250,25244493,27849149,30453805,23500000]\n",
    "JoeJohnson_Salary = [12000000,12744189,13488377,14232567,14976754,16324500,18038573,19752645,21466718,23180790]\n",
    "LeBronJames_Salary = [4621800,5828090,13041250,14410581,15779912,14500000,16022500,17545000,19067500,20644400]\n",
    "CarmeloAnthony_Salary = [3713640,4694041,13041250,14410581,15779912,17149243,18518574,19450000,22407474,22458000]\n",
    "DwightHoward_Salary = [4493160,4806720,6061274,13758000,15202590,16647180,18091770,19536360,20513178,21436271]\n",
    "ChrisBosh_Salary = [3348000,4235220,12455000,14410581,15779912,14500000,16022500,17545000,19067500,20644400]\n",
    "ChrisPaul_Salary = [3144240,3380160,3615960,4574189,13520500,14940153,16359805,17779458,18668431,20068563]\n",
    "KevinDurant_Salary = [0,0,4171200,4484040,4796880,6053663,15506632,16669630,17832627,18995624]\n",
    "DerrickRose_Salary = [0,0,0,4822800,5184480,5546160,6993708,16402500,17632688,18862875]\n",
    "DwayneWade_Salary = [3031920,3841443,13041250,14410581,15779912,14200000,15691000,17182000,18673000,15000000]\n",
    "#Matrix\n",
    "Salary = np.array([KobeBryant_Salary, JoeJohnson_Salary, LeBronJames_Salary, CarmeloAnthony_Salary, DwightHoward_Salary, ChrisBosh_Salary, ChrisPaul_Salary, KevinDurant_Salary, DerrickRose_Salary, DwayneWade_Salary])\n",
    "\n",
    "#Games \n",
    "KobeBryant_G = [80,77,82,82,73,82,58,78,6,35]\n",
    "JoeJohnson_G = [82,57,82,79,76,72,60,72,79,80]\n",
    "LeBronJames_G = [79,78,75,81,76,79,62,76,77,69]\n",
    "CarmeloAnthony_G = [80,65,77,66,69,77,55,67,77,40]\n",
    "DwightHoward_G = [82,82,82,79,82,78,54,76,71,41]\n",
    "ChrisBosh_G = [70,69,67,77,70,77,57,74,79,44]\n",
    "ChrisPaul_G = [78,64,80,78,45,80,60,70,62,82]\n",
    "KevinDurant_G = [35,35,80,74,82,78,66,81,81,27]\n",
    "DerrickRose_G = [40,40,40,81,78,81,39,0,10,51]\n",
    "DwayneWade_G = [75,51,51,79,77,76,49,69,54,62]\n",
    "#Matrix\n",
    "Games = np.array([KobeBryant_G, JoeJohnson_G, LeBronJames_G, CarmeloAnthony_G, DwightHoward_G, ChrisBosh_G, ChrisPaul_G, KevinDurant_G, DerrickRose_G, DwayneWade_G])\n",
    "\n",
    "#Minutes Played\n",
    "KobeBryant_MP = [3277,3140,3192,2960,2835,2779,2232,3013,177,1207]\n",
    "JoeJohnson_MP = [3340,2359,3343,3124,2886,2554,2127,2642,2575,2791]\n",
    "LeBronJames_MP = [3361,3190,3027,3054,2966,3063,2326,2877,2902,2493]\n",
    "CarmeloAnthony_MP = [2941,2486,2806,2277,2634,2751,1876,2482,2982,1428]\n",
    "DwightHoward_MP = [3021,3023,3088,2821,2843,2935,2070,2722,2396,1223]\n",
    "ChrisBosh_MP = [2751,2658,2425,2928,2526,2795,2007,2454,2531,1556]\n",
    "ChrisPaul_MP = [2808,2353,3006,3002,1712,2880,2181,2335,2171,2857]\n",
    "KevinDurant_MP = [1255,1255,2768,2885,3239,3038,2546,3119,3122,913]\n",
    "DerrickRose_MP = [1168,1168,1168,3000,2871,3026,1375,0,311,1530]\n",
    "DwayneWade_MP = [2892,1931,1954,3048,2792,2823,1625,2391,1775,1971]\n",
    "#Matrix\n",
    "MinutesPlayed = np.array([KobeBryant_MP, JoeJohnson_MP, LeBronJames_MP, CarmeloAnthony_MP, DwightHoward_MP, ChrisBosh_MP, ChrisPaul_MP, KevinDurant_MP, DerrickRose_MP, DwayneWade_MP])\n",
    "\n",
    "#Field Goals\n",
    "KobeBryant_FG = [978,813,775,800,716,740,574,738,31,266]\n",
    "JoeJohnson_FG = [632,536,647,620,635,514,423,445,462,446]\n",
    "LeBronJames_FG = [875,772,794,789,768,758,621,765,767,624]\n",
    "CarmeloAnthony_FG = [756,691,728,535,688,684,441,669,743,358]\n",
    "DwightHoward_FG = [468,526,583,560,510,619,416,470,473,251]\n",
    "ChrisBosh_FG = [549,543,507,615,600,524,393,485,492,343]\n",
    "ChrisPaul_FG = [407,381,630,631,314,430,425,412,406,568]\n",
    "KevinDurant_FG = [306,306,587,661,794,711,643,731,849,238]\n",
    "DerrickRose_FG = [208,208,208,574,672,711,302,0,58,338]\n",
    "DwayneWade_FG = [699,472,439,854,719,692,416,569,415,509]\n",
    "#Matrix\n",
    "FieldGoals  = np.array([KobeBryant_FG, JoeJohnson_FG, LeBronJames_FG, CarmeloAnthony_FG, DwightHoward_FG, ChrisBosh_FG, ChrisPaul_FG, KevinDurant_FG, DerrickRose_FG, DwayneWade_FG])\n",
    "\n",
    "#Field Goal Attempts\n",
    "KobeBryant_FGA = [2173,1757,1690,1712,1569,1639,1336,1595,73,713]\n",
    "JoeJohnson_FGA = [1395,1139,1497,1420,1386,1161,931,1052,1018,1025]\n",
    "LeBronJames_FGA = [1823,1621,1642,1613,1528,1485,1169,1354,1353,1279]\n",
    "CarmeloAnthony_FGA = [1572,1453,1481,1207,1502,1503,1025,1489,1643,806]\n",
    "DwightHoward_FGA = [881,873,974,979,834,1044,726,813,800,423]\n",
    "ChrisBosh_FGA = [1087,1094,1027,1263,1158,1056,807,907,953,745]\n",
    "ChrisPaul_FGA = [947,871,1291,1255,637,928,890,856,870,1170]\n",
    "KevinDurant_FGA = [647,647,1366,1390,1668,1538,1297,1433,1688,467]\n",
    "DerrickRose_FGA = [436,436,436,1208,1373,1597,695,0,164,835]\n",
    "DwayneWade_FGA = [1413,962,937,1739,1511,1384,837,1093,761,1084]\n",
    "#Matrix\n",
    "FieldGoalAttempts = np.array([KobeBryant_FGA, JoeJohnson_FGA, LeBronJames_FGA, CarmeloAnthony_FGA, DwightHoward_FGA, ChrisBosh_FGA, ChrisPaul_FGA, KevinDurant_FGA, DerrickRose_FGA, DwayneWade_FGA])\n",
    "\n",
    "#Points\n",
    "KobeBryant_PTS = [2832,2430,2323,2201,1970,2078,1616,2133,83,782]\n",
    "JoeJohnson_PTS = [1653,1426,1779,1688,1619,1312,1129,1170,1245,1154]\n",
    "LeBronJames_PTS = [2478,2132,2250,2304,2258,2111,1683,2036,2089,1743]\n",
    "CarmeloAnthony_PTS = [2122,1881,1978,1504,1943,1970,1245,1920,2112,966]\n",
    "DwightHoward_PTS = [1292,1443,1695,1624,1503,1784,1113,1296,1297,646]\n",
    "ChrisBosh_PTS = [1572,1561,1496,1746,1678,1438,1025,1232,1281,928]\n",
    "ChrisPaul_PTS = [1258,1104,1684,1781,841,1268,1189,1186,1185,1564]\n",
    "KevinDurant_PTS = [903,903,1624,1871,2472,2161,1850,2280,2593,686]\n",
    "DerrickRose_PTS = [597,597,597,1361,1619,2026,852,0,159,904]\n",
    "DwayneWade_PTS = [2040,1397,1254,2386,2045,1941,1082,1463,1028,1331]\n",
    "#Matrix\n",
    "Points = np.array([KobeBryant_PTS, JoeJohnson_PTS, LeBronJames_PTS, CarmeloAnthony_PTS, DwightHoward_PTS, ChrisBosh_PTS, ChrisPaul_PTS, KevinDurant_PTS, DerrickRose_PTS, DwayneWade_PTS])             \n",
    "                  \n",
    "\n"
   ]
  },
  {
   "cell_type": "code",
   "execution_count": 25,
   "id": "f0b53ee7",
   "metadata": {},
   "outputs": [
    {
     "name": "stdout",
     "output_type": "stream",
     "text": [
      "<class 'dict'>\n"
     ]
    },
    {
     "data": {
      "text/plain": [
       "KobeBryant        15946875\n",
       "JoeJohnson        12000000\n",
       "LeBronJames        4621800\n",
       "CarmeloAnthony     3713640\n",
       "DwightHoward       4493160\n",
       "ChrisBosh          3348000\n",
       "ChrisPaul          3144240\n",
       "KevinDurant              0\n",
       "DerrickRose              0\n",
       "DwayneWade         3031920\n",
       "dtype: int64"
      ]
     },
     "execution_count": 25,
     "metadata": {},
     "output_type": "execute_result"
    }
   ],
   "source": [
    "import pandas as pd\n",
    "Salaries_dict2005={'KobeBryant': 15946875,\n",
    "              'JoeJohnson':12000000,\n",
    "              'LeBronJames':4621800,\n",
    "              'CarmeloAnthony':3713640,\n",
    "              'DwightHoward':4493160,\n",
    "              'ChrisBosh':3348000,\n",
    "              'ChrisPaul':3144240,\n",
    "              'KevinDurant':0,\n",
    "              'DerrickRose':0,\n",
    "              'DwayneWade':3031920}\n",
    "print(type(Salaries_dict2005))\n",
    "Salaries2005=pd.Series(Salaries_dict2005)\n",
    "Salaries2005"
   ]
  },
  {
   "cell_type": "code",
   "execution_count": 26,
   "id": "e6ba0a72",
   "metadata": {},
   "outputs": [
    {
     "name": "stdout",
     "output_type": "stream",
     "text": [
      "<class 'dict'>\n"
     ]
    },
    {
     "data": {
      "text/plain": [
       "KobeBryant        80\n",
       "JoeJohnson        82\n",
       "LeBronJames       79\n",
       "CarmeloAnthony    80\n",
       "DwightHoward      82\n",
       "ChrisBosh         70\n",
       "ChrisPaul         78\n",
       "KevinDurant       35\n",
       "DerrickRose       40\n",
       "DwayneWade        75\n",
       "dtype: int64"
      ]
     },
     "execution_count": 26,
     "metadata": {},
     "output_type": "execute_result"
    }
   ],
   "source": [
    "Games_dict2005={'KobeBryant': 80,\n",
    "              'JoeJohnson':82,\n",
    "              'LeBronJames':79,\n",
    "              'CarmeloAnthony':80,\n",
    "              'DwightHoward':82,\n",
    "              'ChrisBosh':70,\n",
    "              'ChrisPaul':78,\n",
    "              'KevinDurant':35,\n",
    "              'DerrickRose':40,\n",
    "              'DwayneWade':75}\n",
    "print(type(Games_dict2005))\n",
    "Games2005=pd.Series(Games_dict2005)\n",
    "Games2005"
   ]
  },
  {
   "cell_type": "code",
   "execution_count": 27,
   "id": "5ba36a95",
   "metadata": {},
   "outputs": [
    {
     "name": "stdout",
     "output_type": "stream",
     "text": [
      "<class 'dict'>\n"
     ]
    },
    {
     "data": {
      "text/plain": [
       "KobeBryant        3277\n",
       "JoeJohnson        3340\n",
       "LeBronJames       3361\n",
       "CarmeloAnthony    2941\n",
       "DwightHoward      3021\n",
       "ChrisBosh         2751\n",
       "ChrisPaul         2808\n",
       "KevinDurant       1255\n",
       "DerrickRose       1168\n",
       "DwayneWade        2892\n",
       "dtype: int64"
      ]
     },
     "execution_count": 27,
     "metadata": {},
     "output_type": "execute_result"
    }
   ],
   "source": [
    "Minutes_dict2005={'KobeBryant': 3277,\n",
    "              'JoeJohnson':3340,\n",
    "              'LeBronJames':3361,\n",
    "              'CarmeloAnthony':2941,\n",
    "              'DwightHoward':3021,\n",
    "              'ChrisBosh':2751,\n",
    "              'ChrisPaul':2808,\n",
    "              'KevinDurant':1255,\n",
    "              'DerrickRose':1168,\n",
    "              'DwayneWade':2892}\n",
    "print(type(Minutes_dict2005))\n",
    "Minutes2005=pd.Series(Minutes_dict2005)\n",
    "Minutes2005"
   ]
  },
  {
   "cell_type": "code",
   "execution_count": 28,
   "id": "fc2cd0fd",
   "metadata": {},
   "outputs": [
    {
     "name": "stdout",
     "output_type": "stream",
     "text": [
      "<class 'dict'>\n"
     ]
    },
    {
     "data": {
      "text/plain": [
       "KobeBryant        978\n",
       "JoeJohnson        632\n",
       "LeBronJames       875\n",
       "CarmeloAnthony    756\n",
       "DwightHoward      468\n",
       "ChrisBosh         549\n",
       "ChrisPaul         407\n",
       "KevinDurant       306\n",
       "DerrickRose       208\n",
       "DwayneWade        699\n",
       "dtype: int64"
      ]
     },
     "execution_count": 28,
     "metadata": {},
     "output_type": "execute_result"
    }
   ],
   "source": [
    "Goals_dict2005={'KobeBryant': 978,\n",
    "              'JoeJohnson':632,\n",
    "              'LeBronJames':875,\n",
    "              'CarmeloAnthony':756,\n",
    "              'DwightHoward':468,\n",
    "              'ChrisBosh':549,\n",
    "              'ChrisPaul':407,\n",
    "              'KevinDurant':306,\n",
    "              'DerrickRose':208,\n",
    "              'DwayneWade':699}\n",
    "print(type(Goals_dict2005))\n",
    "Goals2005=pd.Series(Goals_dict2005)\n",
    "Goals2005"
   ]
  },
  {
   "cell_type": "code",
   "execution_count": 29,
   "id": "0a7d3e8a",
   "metadata": {},
   "outputs": [
    {
     "name": "stdout",
     "output_type": "stream",
     "text": [
      "<class 'dict'>\n"
     ]
    },
    {
     "data": {
      "text/plain": [
       "KobeBryant        2173\n",
       "JoeJohnson        1395\n",
       "LeBronJames       1823\n",
       "CarmeloAnthony    1572\n",
       "DwightHoward       881\n",
       "ChrisBosh         1087\n",
       "ChrisPaul          947\n",
       "KevinDurant        647\n",
       "DerrickRose        436\n",
       "DwayneWade        1413\n",
       "dtype: int64"
      ]
     },
     "execution_count": 29,
     "metadata": {},
     "output_type": "execute_result"
    }
   ],
   "source": [
    "Attempts_dict2005={'KobeBryant': 2173,\n",
    "              'JoeJohnson':1395,\n",
    "              'LeBronJames':1823,\n",
    "              'CarmeloAnthony':1572,\n",
    "              'DwightHoward':881,\n",
    "              'ChrisBosh':1087,\n",
    "              'ChrisPaul':947,\n",
    "              'KevinDurant':647,\n",
    "              'DerrickRose':436,\n",
    "              'DwayneWade':1413}\n",
    "print(type(Attempts_dict2005))\n",
    "Attempts2005=pd.Series(Attempts_dict2005)\n",
    "Attempts2005"
   ]
  },
  {
   "cell_type": "code",
   "execution_count": 30,
   "id": "2071c3a8",
   "metadata": {},
   "outputs": [
    {
     "name": "stdout",
     "output_type": "stream",
     "text": [
      "<class 'dict'>\n"
     ]
    },
    {
     "data": {
      "text/plain": [
       "KobeBryant        2832\n",
       "JoeJohnson        1653\n",
       "LeBronJames       2478\n",
       "CarmeloAnthony    2122\n",
       "DwightHoward      1292\n",
       "ChrisBosh         1572\n",
       "ChrisPaul         1258\n",
       "KevinDurant        903\n",
       "DerrickRose        597\n",
       "DwayneWade        2040\n",
       "dtype: int64"
      ]
     },
     "execution_count": 30,
     "metadata": {},
     "output_type": "execute_result"
    }
   ],
   "source": [
    "Points_dict2005={'KobeBryant': 2832,\n",
    "              'JoeJohnson':1653,\n",
    "              'LeBronJames':2478,\n",
    "              'CarmeloAnthony':2122,\n",
    "              'DwightHoward':1292,\n",
    "              'ChrisBosh':1572,\n",
    "              'ChrisPaul':1258,\n",
    "              'KevinDurant':903,\n",
    "              'DerrickRose':597,\n",
    "              'DwayneWade':2040}\n",
    "print(type(Points_dict2005))\n",
    "Points2005=pd.Series(Points_dict2005)\n",
    "Points2005"
   ]
  },
  {
   "cell_type": "code",
   "execution_count": 31,
   "id": "46c1c24a",
   "metadata": {},
   "outputs": [
    {
     "data": {
      "text/html": [
       "<div>\n",
       "<style scoped>\n",
       "    .dataframe tbody tr th:only-of-type {\n",
       "        vertical-align: middle;\n",
       "    }\n",
       "\n",
       "    .dataframe tbody tr th {\n",
       "        vertical-align: top;\n",
       "    }\n",
       "\n",
       "    .dataframe thead th {\n",
       "        text-align: right;\n",
       "    }\n",
       "</style>\n",
       "<table border=\"1\" class=\"dataframe\">\n",
       "  <thead>\n",
       "    <tr style=\"text-align: right;\">\n",
       "      <th></th>\n",
       "      <th>Salaries2005</th>\n",
       "      <th>Games2005</th>\n",
       "      <th>Minutes2005</th>\n",
       "      <th>Goals2005</th>\n",
       "      <th>Attempts2005</th>\n",
       "      <th>Points2005</th>\n",
       "    </tr>\n",
       "  </thead>\n",
       "  <tbody>\n",
       "    <tr>\n",
       "      <th>KobeBryant</th>\n",
       "      <td>15946875</td>\n",
       "      <td>80</td>\n",
       "      <td>3277</td>\n",
       "      <td>978</td>\n",
       "      <td>2173</td>\n",
       "      <td>2832</td>\n",
       "    </tr>\n",
       "    <tr>\n",
       "      <th>JoeJohnson</th>\n",
       "      <td>12000000</td>\n",
       "      <td>82</td>\n",
       "      <td>3340</td>\n",
       "      <td>632</td>\n",
       "      <td>1395</td>\n",
       "      <td>1653</td>\n",
       "    </tr>\n",
       "    <tr>\n",
       "      <th>LeBronJames</th>\n",
       "      <td>4621800</td>\n",
       "      <td>79</td>\n",
       "      <td>3361</td>\n",
       "      <td>875</td>\n",
       "      <td>1823</td>\n",
       "      <td>2478</td>\n",
       "    </tr>\n",
       "    <tr>\n",
       "      <th>CarmeloAnthony</th>\n",
       "      <td>3713640</td>\n",
       "      <td>80</td>\n",
       "      <td>2941</td>\n",
       "      <td>756</td>\n",
       "      <td>1572</td>\n",
       "      <td>2122</td>\n",
       "    </tr>\n",
       "    <tr>\n",
       "      <th>DwightHoward</th>\n",
       "      <td>4493160</td>\n",
       "      <td>82</td>\n",
       "      <td>3021</td>\n",
       "      <td>468</td>\n",
       "      <td>881</td>\n",
       "      <td>1292</td>\n",
       "    </tr>\n",
       "    <tr>\n",
       "      <th>ChrisBosh</th>\n",
       "      <td>3348000</td>\n",
       "      <td>70</td>\n",
       "      <td>2751</td>\n",
       "      <td>549</td>\n",
       "      <td>1087</td>\n",
       "      <td>1572</td>\n",
       "    </tr>\n",
       "    <tr>\n",
       "      <th>ChrisPaul</th>\n",
       "      <td>3144240</td>\n",
       "      <td>78</td>\n",
       "      <td>2808</td>\n",
       "      <td>407</td>\n",
       "      <td>947</td>\n",
       "      <td>1258</td>\n",
       "    </tr>\n",
       "    <tr>\n",
       "      <th>KevinDurant</th>\n",
       "      <td>0</td>\n",
       "      <td>35</td>\n",
       "      <td>1255</td>\n",
       "      <td>306</td>\n",
       "      <td>647</td>\n",
       "      <td>903</td>\n",
       "    </tr>\n",
       "    <tr>\n",
       "      <th>DerrickRose</th>\n",
       "      <td>0</td>\n",
       "      <td>40</td>\n",
       "      <td>1168</td>\n",
       "      <td>208</td>\n",
       "      <td>436</td>\n",
       "      <td>597</td>\n",
       "    </tr>\n",
       "    <tr>\n",
       "      <th>DwayneWade</th>\n",
       "      <td>3031920</td>\n",
       "      <td>75</td>\n",
       "      <td>2892</td>\n",
       "      <td>699</td>\n",
       "      <td>1413</td>\n",
       "      <td>2040</td>\n",
       "    </tr>\n",
       "  </tbody>\n",
       "</table>\n",
       "</div>"
      ],
      "text/plain": [
       "                Salaries2005  Games2005  Minutes2005  Goals2005  Attempts2005  \\\n",
       "KobeBryant          15946875         80         3277        978          2173   \n",
       "JoeJohnson          12000000         82         3340        632          1395   \n",
       "LeBronJames          4621800         79         3361        875          1823   \n",
       "CarmeloAnthony       3713640         80         2941        756          1572   \n",
       "DwightHoward         4493160         82         3021        468           881   \n",
       "ChrisBosh            3348000         70         2751        549          1087   \n",
       "ChrisPaul            3144240         78         2808        407           947   \n",
       "KevinDurant                0         35         1255        306           647   \n",
       "DerrickRose                0         40         1168        208           436   \n",
       "DwayneWade           3031920         75         2892        699          1413   \n",
       "\n",
       "                Points2005  \n",
       "KobeBryant            2832  \n",
       "JoeJohnson            1653  \n",
       "LeBronJames           2478  \n",
       "CarmeloAnthony        2122  \n",
       "DwightHoward          1292  \n",
       "ChrisBosh             1572  \n",
       "ChrisPaul             1258  \n",
       "KevinDurant            903  \n",
       "DerrickRose            597  \n",
       "DwayneWade            2040  "
      ]
     },
     "execution_count": 31,
     "metadata": {},
     "output_type": "execute_result"
    }
   ],
   "source": [
    "Players2005=pd.DataFrame({'Salaries2005': Salaries2005, \n",
    "                      'Games2005':Games2005, \n",
    "                      'Minutes2005':Minutes2005, \n",
    "                      'Goals2005':Goals2005, \n",
    "                      'Attempts2005':Attempts2005, \n",
    "                      'Points2005':Points2005})\n",
    "Players2005"
   ]
  },
  {
   "cell_type": "code",
   "execution_count": 32,
   "id": "41e18821",
   "metadata": {},
   "outputs": [
    {
     "name": "stdout",
     "output_type": "stream",
     "text": [
      "<class 'dict'>\n"
     ]
    },
    {
     "data": {
      "text/plain": [
       "KobeBryant        17718750\n",
       "JoeJohnson        12744189\n",
       "LeBronJames        5828090\n",
       "CarmeloAnthony     4694041\n",
       "DwightHoward       4806720\n",
       "ChrisBosh          4235220\n",
       "ChrisPaul          3380160\n",
       "KevinDurant              0\n",
       "DerrickRose              0\n",
       "DwayneWade         3841443\n",
       "dtype: int64"
      ]
     },
     "execution_count": 32,
     "metadata": {},
     "output_type": "execute_result"
    }
   ],
   "source": [
    "Salaries_dict2006={'KobeBryant': 17718750,\n",
    "              'JoeJohnson':12744189,\n",
    "              'LeBronJames':5828090,\n",
    "              'CarmeloAnthony':4694041,\n",
    "              'DwightHoward':4806720,\n",
    "              'ChrisBosh':4235220,\n",
    "              'ChrisPaul':3380160,\n",
    "              'KevinDurant':0,\n",
    "              'DerrickRose':0,\n",
    "              'DwayneWade':3841443}\n",
    "print(type(Salaries_dict2006))\n",
    "Salaries2006=pd.Series(Salaries_dict2006)\n",
    "Salaries2006"
   ]
  },
  {
   "cell_type": "code",
   "execution_count": 34,
   "id": "f15540c3",
   "metadata": {},
   "outputs": [
    {
     "name": "stdout",
     "output_type": "stream",
     "text": [
      "<class 'dict'>\n"
     ]
    },
    {
     "data": {
      "text/plain": [
       "KobeBryant        77\n",
       "JoeJohnson        57\n",
       "LeBronJames       78\n",
       "CarmeloAnthony    65\n",
       "DwightHoward      82\n",
       "ChrisBosh         69\n",
       "ChrisPaul         64\n",
       "KevinDurant       35\n",
       "DerrickRose       40\n",
       "DwayneWade        51\n",
       "dtype: int64"
      ]
     },
     "execution_count": 34,
     "metadata": {},
     "output_type": "execute_result"
    }
   ],
   "source": [
    "Games_dict2006={'KobeBryant': 77,\n",
    "              'JoeJohnson':57,\n",
    "              'LeBronJames':78,\n",
    "              'CarmeloAnthony':65,\n",
    "              'DwightHoward':82,\n",
    "              'ChrisBosh':69,\n",
    "              'ChrisPaul':64,\n",
    "              'KevinDurant':35,\n",
    "              'DerrickRose':40,\n",
    "              'DwayneWade':51}\n",
    "print(type(Games_dict2006))\n",
    "Games2006=pd.Series(Games_dict2006)\n",
    "Games2006"
   ]
  },
  {
   "cell_type": "code",
   "execution_count": 35,
   "id": "97883910",
   "metadata": {},
   "outputs": [
    {
     "name": "stdout",
     "output_type": "stream",
     "text": [
      "<class 'dict'>\n"
     ]
    },
    {
     "data": {
      "text/plain": [
       "KobeBryant        3140\n",
       "JoeJohnson        2359\n",
       "LeBronJames       3190\n",
       "CarmeloAnthony    2486\n",
       "DwightHoward      3023\n",
       "ChrisBosh         2658\n",
       "ChrisPaul         2353\n",
       "KevinDurant       1255\n",
       "DerrickRose       1168\n",
       "DwayneWade        1931\n",
       "dtype: int64"
      ]
     },
     "execution_count": 35,
     "metadata": {},
     "output_type": "execute_result"
    }
   ],
   "source": [
    "Minutes_dict2006={'KobeBryant': 3140,\n",
    "              'JoeJohnson':2359,\n",
    "              'LeBronJames':3190,\n",
    "              'CarmeloAnthony':2486,\n",
    "              'DwightHoward':3023,\n",
    "              'ChrisBosh':2658,\n",
    "              'ChrisPaul':2353,\n",
    "              'KevinDurant':1255,\n",
    "              'DerrickRose':1168,\n",
    "              'DwayneWade':1931}\n",
    "print(type(Minutes_dict2006))\n",
    "Minutes2006=pd.Series(Minutes_dict2006)\n",
    "Minutes2006"
   ]
  },
  {
   "cell_type": "code",
   "execution_count": 36,
   "id": "2f837576",
   "metadata": {},
   "outputs": [
    {
     "name": "stdout",
     "output_type": "stream",
     "text": [
      "<class 'dict'>\n"
     ]
    },
    {
     "data": {
      "text/plain": [
       "KobeBryant        813\n",
       "JoeJohnson        536\n",
       "LeBronJames       772\n",
       "CarmeloAnthony    691\n",
       "DwightHoward      526\n",
       "ChrisBosh         543\n",
       "ChrisPaul         381\n",
       "KevinDurant       306\n",
       "DerrickRose       208\n",
       "DwayneWade        472\n",
       "dtype: int64"
      ]
     },
     "execution_count": 36,
     "metadata": {},
     "output_type": "execute_result"
    }
   ],
   "source": [
    "Goals_dict2006={'KobeBryant': 813,\n",
    "              'JoeJohnson':536,\n",
    "              'LeBronJames':772,\n",
    "              'CarmeloAnthony':691,\n",
    "              'DwightHoward':526,\n",
    "              'ChrisBosh':543,\n",
    "              'ChrisPaul':381,\n",
    "              'KevinDurant':306,\n",
    "              'DerrickRose':208,\n",
    "              'DwayneWade':472}\n",
    "print(type(Goals_dict2006))\n",
    "Goals2006=pd.Series(Goals_dict2006)\n",
    "Goals2006"
   ]
  },
  {
   "cell_type": "code",
   "execution_count": 37,
   "id": "fb92d837",
   "metadata": {},
   "outputs": [
    {
     "name": "stdout",
     "output_type": "stream",
     "text": [
      "<class 'dict'>\n"
     ]
    },
    {
     "data": {
      "text/plain": [
       "KobeBryant        1757\n",
       "JoeJohnson        1139\n",
       "LeBronJames       1621\n",
       "CarmeloAnthony    1453\n",
       "DwightHoward       873\n",
       "ChrisBosh         1094\n",
       "ChrisPaul          871\n",
       "KevinDurant        647\n",
       "DerrickRose        436\n",
       "DwayneWade         962\n",
       "dtype: int64"
      ]
     },
     "execution_count": 37,
     "metadata": {},
     "output_type": "execute_result"
    }
   ],
   "source": [
    "Attempts_dict2006={'KobeBryant': 1757,\n",
    "              'JoeJohnson':1139,\n",
    "              'LeBronJames':1621,\n",
    "              'CarmeloAnthony':1453,\n",
    "              'DwightHoward':873,\n",
    "              'ChrisBosh':1094,\n",
    "              'ChrisPaul':871,\n",
    "              'KevinDurant':647,\n",
    "              'DerrickRose':436,\n",
    "              'DwayneWade':962}\n",
    "print(type(Attempts_dict2006))\n",
    "Attempts2006=pd.Series(Attempts_dict2006)\n",
    "Attempts2006"
   ]
  },
  {
   "cell_type": "code",
   "execution_count": 38,
   "id": "a6c4c362",
   "metadata": {},
   "outputs": [
    {
     "name": "stdout",
     "output_type": "stream",
     "text": [
      "<class 'dict'>\n"
     ]
    },
    {
     "data": {
      "text/plain": [
       "KobeBryant        2430\n",
       "JoeJohnson        1426\n",
       "LeBronJames       2132\n",
       "CarmeloAnthony    1881\n",
       "DwightHoward      1443\n",
       "ChrisBosh         1561\n",
       "ChrisPaul         1104\n",
       "KevinDurant        903\n",
       "DerrickRose        597\n",
       "DwayneWade        1397\n",
       "dtype: int64"
      ]
     },
     "execution_count": 38,
     "metadata": {},
     "output_type": "execute_result"
    }
   ],
   "source": [
    "Points_dict2006={'KobeBryant': 2430,\n",
    "              'JoeJohnson':1426,\n",
    "              'LeBronJames':2132,\n",
    "              'CarmeloAnthony':1881,\n",
    "              'DwightHoward':1443,\n",
    "              'ChrisBosh':1561,\n",
    "              'ChrisPaul':1104,\n",
    "              'KevinDurant':903,\n",
    "              'DerrickRose':597,\n",
    "              'DwayneWade':1397}\n",
    "print(type(Points_dict2006))\n",
    "Points2006=pd.Series(Points_dict2006)\n",
    "Points2006"
   ]
  },
  {
   "cell_type": "code",
   "execution_count": 39,
   "id": "7fa6b39d",
   "metadata": {},
   "outputs": [
    {
     "data": {
      "text/html": [
       "<div>\n",
       "<style scoped>\n",
       "    .dataframe tbody tr th:only-of-type {\n",
       "        vertical-align: middle;\n",
       "    }\n",
       "\n",
       "    .dataframe tbody tr th {\n",
       "        vertical-align: top;\n",
       "    }\n",
       "\n",
       "    .dataframe thead th {\n",
       "        text-align: right;\n",
       "    }\n",
       "</style>\n",
       "<table border=\"1\" class=\"dataframe\">\n",
       "  <thead>\n",
       "    <tr style=\"text-align: right;\">\n",
       "      <th></th>\n",
       "      <th>Salaries2006</th>\n",
       "      <th>Games2006</th>\n",
       "      <th>Minutes2006</th>\n",
       "      <th>Goals2006</th>\n",
       "      <th>Attempts2006</th>\n",
       "      <th>Points2006</th>\n",
       "    </tr>\n",
       "  </thead>\n",
       "  <tbody>\n",
       "    <tr>\n",
       "      <th>KobeBryant</th>\n",
       "      <td>17718750</td>\n",
       "      <td>77</td>\n",
       "      <td>3140</td>\n",
       "      <td>813</td>\n",
       "      <td>1757</td>\n",
       "      <td>2430</td>\n",
       "    </tr>\n",
       "    <tr>\n",
       "      <th>JoeJohnson</th>\n",
       "      <td>12744189</td>\n",
       "      <td>57</td>\n",
       "      <td>2359</td>\n",
       "      <td>536</td>\n",
       "      <td>1139</td>\n",
       "      <td>1426</td>\n",
       "    </tr>\n",
       "    <tr>\n",
       "      <th>LeBronJames</th>\n",
       "      <td>5828090</td>\n",
       "      <td>78</td>\n",
       "      <td>3190</td>\n",
       "      <td>772</td>\n",
       "      <td>1621</td>\n",
       "      <td>2132</td>\n",
       "    </tr>\n",
       "    <tr>\n",
       "      <th>CarmeloAnthony</th>\n",
       "      <td>4694041</td>\n",
       "      <td>65</td>\n",
       "      <td>2486</td>\n",
       "      <td>691</td>\n",
       "      <td>1453</td>\n",
       "      <td>1881</td>\n",
       "    </tr>\n",
       "    <tr>\n",
       "      <th>DwightHoward</th>\n",
       "      <td>4806720</td>\n",
       "      <td>82</td>\n",
       "      <td>3023</td>\n",
       "      <td>526</td>\n",
       "      <td>873</td>\n",
       "      <td>1443</td>\n",
       "    </tr>\n",
       "    <tr>\n",
       "      <th>ChrisBosh</th>\n",
       "      <td>4235220</td>\n",
       "      <td>69</td>\n",
       "      <td>2658</td>\n",
       "      <td>543</td>\n",
       "      <td>1094</td>\n",
       "      <td>1561</td>\n",
       "    </tr>\n",
       "    <tr>\n",
       "      <th>ChrisPaul</th>\n",
       "      <td>3380160</td>\n",
       "      <td>64</td>\n",
       "      <td>2353</td>\n",
       "      <td>381</td>\n",
       "      <td>871</td>\n",
       "      <td>1104</td>\n",
       "    </tr>\n",
       "    <tr>\n",
       "      <th>KevinDurant</th>\n",
       "      <td>0</td>\n",
       "      <td>35</td>\n",
       "      <td>1255</td>\n",
       "      <td>306</td>\n",
       "      <td>647</td>\n",
       "      <td>903</td>\n",
       "    </tr>\n",
       "    <tr>\n",
       "      <th>DerrickRose</th>\n",
       "      <td>0</td>\n",
       "      <td>40</td>\n",
       "      <td>1168</td>\n",
       "      <td>208</td>\n",
       "      <td>436</td>\n",
       "      <td>597</td>\n",
       "    </tr>\n",
       "    <tr>\n",
       "      <th>DwayneWade</th>\n",
       "      <td>3841443</td>\n",
       "      <td>51</td>\n",
       "      <td>1931</td>\n",
       "      <td>472</td>\n",
       "      <td>962</td>\n",
       "      <td>1397</td>\n",
       "    </tr>\n",
       "  </tbody>\n",
       "</table>\n",
       "</div>"
      ],
      "text/plain": [
       "                Salaries2006  Games2006  Minutes2006  Goals2006  Attempts2006  \\\n",
       "KobeBryant          17718750         77         3140        813          1757   \n",
       "JoeJohnson          12744189         57         2359        536          1139   \n",
       "LeBronJames          5828090         78         3190        772          1621   \n",
       "CarmeloAnthony       4694041         65         2486        691          1453   \n",
       "DwightHoward         4806720         82         3023        526           873   \n",
       "ChrisBosh            4235220         69         2658        543          1094   \n",
       "ChrisPaul            3380160         64         2353        381           871   \n",
       "KevinDurant                0         35         1255        306           647   \n",
       "DerrickRose                0         40         1168        208           436   \n",
       "DwayneWade           3841443         51         1931        472           962   \n",
       "\n",
       "                Points2006  \n",
       "KobeBryant            2430  \n",
       "JoeJohnson            1426  \n",
       "LeBronJames           2132  \n",
       "CarmeloAnthony        1881  \n",
       "DwightHoward          1443  \n",
       "ChrisBosh             1561  \n",
       "ChrisPaul             1104  \n",
       "KevinDurant            903  \n",
       "DerrickRose            597  \n",
       "DwayneWade            1397  "
      ]
     },
     "execution_count": 39,
     "metadata": {},
     "output_type": "execute_result"
    }
   ],
   "source": [
    "Players2006=pd.DataFrame({'Salaries2006': Salaries2006, \n",
    "                      'Games2006':Games2006, \n",
    "                      'Minutes2006':Minutes2006, \n",
    "                      'Goals2006':Goals2006, \n",
    "                      'Attempts2006':Attempts2006, \n",
    "                      'Points2006':Points2006})\n",
    "Players2006"
   ]
  },
  {
   "cell_type": "code",
   "execution_count": 40,
   "id": "257a6ad4",
   "metadata": {},
   "outputs": [
    {
     "name": "stdout",
     "output_type": "stream",
     "text": [
      "<class 'dict'>\n"
     ]
    },
    {
     "data": {
      "text/plain": [
       "KobeBryant        19490625\n",
       "JoeJohnson        13488377\n",
       "LeBronJames       13041250\n",
       "CarmeloAnthony    13041250\n",
       "DwightHoward       6061274\n",
       "ChrisBosh         12455000\n",
       "ChrisPaul          3615960\n",
       "KevinDurant        4171200\n",
       "DerrickRose              0\n",
       "DwayneWade        13041250\n",
       "dtype: int64"
      ]
     },
     "execution_count": 40,
     "metadata": {},
     "output_type": "execute_result"
    }
   ],
   "source": [
    "Salaries_dict2007={'KobeBryant': 19490625,\n",
    "              'JoeJohnson':13488377,\n",
    "              'LeBronJames':13041250,\n",
    "              'CarmeloAnthony':13041250,\n",
    "              'DwightHoward':6061274,\n",
    "              'ChrisBosh':12455000,\n",
    "              'ChrisPaul':3615960,\n",
    "              'KevinDurant':4171200,\n",
    "              'DerrickRose':0,\n",
    "              'DwayneWade':13041250}\n",
    "print(type(Salaries_dict2007))\n",
    "Salaries2007=pd.Series(Salaries_dict2007)\n",
    "Salaries2007"
   ]
  },
  {
   "cell_type": "code",
   "execution_count": 41,
   "id": "b6f6ce6f",
   "metadata": {},
   "outputs": [
    {
     "name": "stdout",
     "output_type": "stream",
     "text": [
      "<class 'dict'>\n"
     ]
    },
    {
     "data": {
      "text/plain": [
       "KobeBryant        82\n",
       "JoeJohnson        82\n",
       "LeBronJames       75\n",
       "CarmeloAnthony    77\n",
       "DwightHoward      82\n",
       "ChrisBosh         67\n",
       "ChrisPaul         80\n",
       "KevinDurant       80\n",
       "DerrickRose       40\n",
       "DwayneWade        51\n",
       "dtype: int64"
      ]
     },
     "execution_count": 41,
     "metadata": {},
     "output_type": "execute_result"
    }
   ],
   "source": [
    "Games_dict2007={'KobeBryant': 82,\n",
    "              'JoeJohnson':82,\n",
    "              'LeBronJames':75,\n",
    "              'CarmeloAnthony':77,\n",
    "              'DwightHoward':82,\n",
    "              'ChrisBosh':67,\n",
    "              'ChrisPaul':80,\n",
    "              'KevinDurant':80,\n",
    "              'DerrickRose':40,\n",
    "              'DwayneWade':51}\n",
    "print(type(Games_dict2007))\n",
    "Games2007=pd.Series(Games_dict2007)\n",
    "Games2007"
   ]
  },
  {
   "cell_type": "code",
   "execution_count": 42,
   "id": "abced467",
   "metadata": {},
   "outputs": [
    {
     "name": "stdout",
     "output_type": "stream",
     "text": [
      "<class 'dict'>\n"
     ]
    },
    {
     "data": {
      "text/plain": [
       "KobeBryant        3192\n",
       "JoeJohnson        3343\n",
       "LeBronJames       3027\n",
       "CarmeloAnthony    2806\n",
       "DwightHoward      3088\n",
       "ChrisBosh         2425\n",
       "ChrisPaul         3006\n",
       "KevinDurant       2768\n",
       "DerrickRose       1168\n",
       "DwayneWade        1954\n",
       "dtype: int64"
      ]
     },
     "execution_count": 42,
     "metadata": {},
     "output_type": "execute_result"
    }
   ],
   "source": [
    "Minutes_dict2007={'KobeBryant': 3192,\n",
    "              'JoeJohnson':3343,\n",
    "              'LeBronJames':3027,\n",
    "              'CarmeloAnthony':2806,\n",
    "              'DwightHoward':3088,\n",
    "              'ChrisBosh':2425,\n",
    "              'ChrisPaul':3006,\n",
    "              'KevinDurant':2768,\n",
    "              'DerrickRose':1168,\n",
    "              'DwayneWade':1954}\n",
    "print(type(Minutes_dict2007))\n",
    "Minutes2007=pd.Series(Minutes_dict2007)\n",
    "Minutes2007"
   ]
  },
  {
   "cell_type": "code",
   "execution_count": 43,
   "id": "6b11289c",
   "metadata": {},
   "outputs": [
    {
     "name": "stdout",
     "output_type": "stream",
     "text": [
      "<class 'dict'>\n"
     ]
    },
    {
     "data": {
      "text/plain": [
       "KobeBryant        775\n",
       "JoeJohnson        647\n",
       "LeBronJames       794\n",
       "CarmeloAnthony    728\n",
       "DwightHoward      583\n",
       "ChrisBosh         507\n",
       "ChrisPaul         630\n",
       "KevinDurant       587\n",
       "DerrickRose       208\n",
       "DwayneWade        439\n",
       "dtype: int64"
      ]
     },
     "execution_count": 43,
     "metadata": {},
     "output_type": "execute_result"
    }
   ],
   "source": [
    "Goals_dict2007={'KobeBryant': 775,\n",
    "              'JoeJohnson':647,\n",
    "              'LeBronJames':794,\n",
    "              'CarmeloAnthony':728,\n",
    "              'DwightHoward':583,\n",
    "              'ChrisBosh':507,\n",
    "              'ChrisPaul':630,\n",
    "              'KevinDurant':587,\n",
    "              'DerrickRose':208,\n",
    "              'DwayneWade':439}\n",
    "print(type(Goals_dict2007))\n",
    "Goals2007=pd.Series(Goals_dict2007)\n",
    "Goals2007"
   ]
  },
  {
   "cell_type": "code",
   "execution_count": 44,
   "id": "86943d2e",
   "metadata": {},
   "outputs": [
    {
     "name": "stdout",
     "output_type": "stream",
     "text": [
      "<class 'dict'>\n"
     ]
    },
    {
     "data": {
      "text/plain": [
       "KobeBryant        1690\n",
       "JoeJohnson        1497\n",
       "LeBronJames       1642\n",
       "CarmeloAnthony    1481\n",
       "DwightHoward       974\n",
       "ChrisBosh         1027\n",
       "ChrisPaul         1291\n",
       "KevinDurant       1366\n",
       "DerrickRose        436\n",
       "DwayneWade         937\n",
       "dtype: int64"
      ]
     },
     "execution_count": 44,
     "metadata": {},
     "output_type": "execute_result"
    }
   ],
   "source": [
    "Attempts_dict2007={'KobeBryant': 1690,\n",
    "              'JoeJohnson':1497,\n",
    "              'LeBronJames':1642,\n",
    "              'CarmeloAnthony':1481,\n",
    "              'DwightHoward':974,\n",
    "              'ChrisBosh':1027,\n",
    "              'ChrisPaul':1291,\n",
    "              'KevinDurant':1366,\n",
    "              'DerrickRose':436,\n",
    "              'DwayneWade':937}\n",
    "print(type(Attempts_dict2007))\n",
    "Attempts2007=pd.Series(Attempts_dict2007)\n",
    "Attempts2007"
   ]
  },
  {
   "cell_type": "code",
   "execution_count": 46,
   "id": "e1572b49",
   "metadata": {},
   "outputs": [
    {
     "name": "stdout",
     "output_type": "stream",
     "text": [
      "<class 'dict'>\n"
     ]
    },
    {
     "data": {
      "text/plain": [
       "KobeBryant        2323\n",
       "JoeJohnson        1779\n",
       "LeBronJames       2250\n",
       "CarmeloAnthony    1978\n",
       "DwightHoward      1695\n",
       "ChrisBosh         1496\n",
       "ChrisPaul         1684\n",
       "KevinDurant       1624\n",
       "DerrickRose        597\n",
       "DwayneWade        1254\n",
       "dtype: int64"
      ]
     },
     "execution_count": 46,
     "metadata": {},
     "output_type": "execute_result"
    }
   ],
   "source": [
    "Points_dict2007={'KobeBryant': 2323,\n",
    "              'JoeJohnson':1779,\n",
    "              'LeBronJames':2250,\n",
    "              'CarmeloAnthony':1978,\n",
    "              'DwightHoward':1695,\n",
    "              'ChrisBosh':1496,\n",
    "              'ChrisPaul':1684,\n",
    "              'KevinDurant':1624,\n",
    "              'DerrickRose':597,\n",
    "              'DwayneWade':1254}\n",
    "print(type(Points_dict2007))\n",
    "Points2007=pd.Series(Points_dict2007)\n",
    "Points2007"
   ]
  },
  {
   "cell_type": "code",
   "execution_count": 47,
   "id": "a8328132",
   "metadata": {},
   "outputs": [
    {
     "data": {
      "text/html": [
       "<div>\n",
       "<style scoped>\n",
       "    .dataframe tbody tr th:only-of-type {\n",
       "        vertical-align: middle;\n",
       "    }\n",
       "\n",
       "    .dataframe tbody tr th {\n",
       "        vertical-align: top;\n",
       "    }\n",
       "\n",
       "    .dataframe thead th {\n",
       "        text-align: right;\n",
       "    }\n",
       "</style>\n",
       "<table border=\"1\" class=\"dataframe\">\n",
       "  <thead>\n",
       "    <tr style=\"text-align: right;\">\n",
       "      <th></th>\n",
       "      <th>Salaries2007</th>\n",
       "      <th>Games2007</th>\n",
       "      <th>Minutes2007</th>\n",
       "      <th>Goals2007</th>\n",
       "      <th>Attempts2007</th>\n",
       "      <th>Points2007</th>\n",
       "    </tr>\n",
       "  </thead>\n",
       "  <tbody>\n",
       "    <tr>\n",
       "      <th>KobeBryant</th>\n",
       "      <td>19490625</td>\n",
       "      <td>82</td>\n",
       "      <td>3192</td>\n",
       "      <td>775</td>\n",
       "      <td>1690</td>\n",
       "      <td>2323</td>\n",
       "    </tr>\n",
       "    <tr>\n",
       "      <th>JoeJohnson</th>\n",
       "      <td>13488377</td>\n",
       "      <td>82</td>\n",
       "      <td>3343</td>\n",
       "      <td>647</td>\n",
       "      <td>1497</td>\n",
       "      <td>1779</td>\n",
       "    </tr>\n",
       "    <tr>\n",
       "      <th>LeBronJames</th>\n",
       "      <td>13041250</td>\n",
       "      <td>75</td>\n",
       "      <td>3027</td>\n",
       "      <td>794</td>\n",
       "      <td>1642</td>\n",
       "      <td>2250</td>\n",
       "    </tr>\n",
       "    <tr>\n",
       "      <th>CarmeloAnthony</th>\n",
       "      <td>13041250</td>\n",
       "      <td>77</td>\n",
       "      <td>2806</td>\n",
       "      <td>728</td>\n",
       "      <td>1481</td>\n",
       "      <td>1978</td>\n",
       "    </tr>\n",
       "    <tr>\n",
       "      <th>DwightHoward</th>\n",
       "      <td>6061274</td>\n",
       "      <td>82</td>\n",
       "      <td>3088</td>\n",
       "      <td>583</td>\n",
       "      <td>974</td>\n",
       "      <td>1695</td>\n",
       "    </tr>\n",
       "    <tr>\n",
       "      <th>ChrisBosh</th>\n",
       "      <td>12455000</td>\n",
       "      <td>67</td>\n",
       "      <td>2425</td>\n",
       "      <td>507</td>\n",
       "      <td>1027</td>\n",
       "      <td>1496</td>\n",
       "    </tr>\n",
       "    <tr>\n",
       "      <th>ChrisPaul</th>\n",
       "      <td>3615960</td>\n",
       "      <td>80</td>\n",
       "      <td>3006</td>\n",
       "      <td>630</td>\n",
       "      <td>1291</td>\n",
       "      <td>1684</td>\n",
       "    </tr>\n",
       "    <tr>\n",
       "      <th>KevinDurant</th>\n",
       "      <td>4171200</td>\n",
       "      <td>80</td>\n",
       "      <td>2768</td>\n",
       "      <td>587</td>\n",
       "      <td>1366</td>\n",
       "      <td>1624</td>\n",
       "    </tr>\n",
       "    <tr>\n",
       "      <th>DerrickRose</th>\n",
       "      <td>0</td>\n",
       "      <td>40</td>\n",
       "      <td>1168</td>\n",
       "      <td>208</td>\n",
       "      <td>436</td>\n",
       "      <td>597</td>\n",
       "    </tr>\n",
       "    <tr>\n",
       "      <th>DwayneWade</th>\n",
       "      <td>13041250</td>\n",
       "      <td>51</td>\n",
       "      <td>1954</td>\n",
       "      <td>439</td>\n",
       "      <td>937</td>\n",
       "      <td>1254</td>\n",
       "    </tr>\n",
       "  </tbody>\n",
       "</table>\n",
       "</div>"
      ],
      "text/plain": [
       "                Salaries2007  Games2007  Minutes2007  Goals2007  Attempts2007  \\\n",
       "KobeBryant          19490625         82         3192        775          1690   \n",
       "JoeJohnson          13488377         82         3343        647          1497   \n",
       "LeBronJames         13041250         75         3027        794          1642   \n",
       "CarmeloAnthony      13041250         77         2806        728          1481   \n",
       "DwightHoward         6061274         82         3088        583           974   \n",
       "ChrisBosh           12455000         67         2425        507          1027   \n",
       "ChrisPaul            3615960         80         3006        630          1291   \n",
       "KevinDurant          4171200         80         2768        587          1366   \n",
       "DerrickRose                0         40         1168        208           436   \n",
       "DwayneWade          13041250         51         1954        439           937   \n",
       "\n",
       "                Points2007  \n",
       "KobeBryant            2323  \n",
       "JoeJohnson            1779  \n",
       "LeBronJames           2250  \n",
       "CarmeloAnthony        1978  \n",
       "DwightHoward          1695  \n",
       "ChrisBosh             1496  \n",
       "ChrisPaul             1684  \n",
       "KevinDurant           1624  \n",
       "DerrickRose            597  \n",
       "DwayneWade            1254  "
      ]
     },
     "execution_count": 47,
     "metadata": {},
     "output_type": "execute_result"
    }
   ],
   "source": [
    "Players2007=pd.DataFrame({'Salaries2007': Salaries2007, \n",
    "                      'Games2007':Games2007, \n",
    "                      'Minutes2007':Minutes2007, \n",
    "                      'Goals2007':Goals2007, \n",
    "                      'Attempts2007':Attempts2007, \n",
    "                      'Points2007':Points2007})\n",
    "Players2007"
   ]
  },
  {
   "cell_type": "code",
   "execution_count": 48,
   "id": "777ea27d",
   "metadata": {},
   "outputs": [
    {
     "name": "stdout",
     "output_type": "stream",
     "text": [
      "<class 'dict'>\n"
     ]
    },
    {
     "data": {
      "text/plain": [
       "KobeBryant        21262500\n",
       "JoeJohnson        14232567\n",
       "LeBronJames       14410581\n",
       "CarmeloAnthony    14410581\n",
       "DwightHoward      13758000\n",
       "ChrisBosh         14410581\n",
       "ChrisPaul          4574189\n",
       "KevinDurant        4484040\n",
       "DerrickRose        4822800\n",
       "DwayneWade        14410581\n",
       "dtype: int64"
      ]
     },
     "execution_count": 48,
     "metadata": {},
     "output_type": "execute_result"
    }
   ],
   "source": [
    "Salaries_dict2008={'KobeBryant':21262500 ,\n",
    "              'JoeJohnson':14232567,\n",
    "              'LeBronJames':14410581,\n",
    "              'CarmeloAnthony':14410581,\n",
    "              'DwightHoward':13758000,\n",
    "              'ChrisBosh':14410581,\n",
    "              'ChrisPaul':4574189,\n",
    "              'KevinDurant':4484040,\n",
    "              'DerrickRose':4822800,\n",
    "              'DwayneWade':14410581}\n",
    "print(type(Salaries_dict2008))\n",
    "Salaries2008=pd.Series(Salaries_dict2008)\n",
    "Salaries2008"
   ]
  },
  {
   "cell_type": "code",
   "execution_count": 49,
   "id": "69fa2d17",
   "metadata": {},
   "outputs": [
    {
     "name": "stdout",
     "output_type": "stream",
     "text": [
      "<class 'dict'>\n"
     ]
    },
    {
     "data": {
      "text/plain": [
       "KobeBryant        82\n",
       "JoeJohnson        79\n",
       "LeBronJames       81\n",
       "CarmeloAnthony    66\n",
       "DwightHoward      79\n",
       "ChrisBosh         77\n",
       "ChrisPaul         78\n",
       "KevinDurant       74\n",
       "DerrickRose       81\n",
       "DwayneWade        79\n",
       "dtype: int64"
      ]
     },
     "execution_count": 49,
     "metadata": {},
     "output_type": "execute_result"
    }
   ],
   "source": [
    "Games_dict2008={'KobeBryant': 82,\n",
    "              'JoeJohnson':79,\n",
    "              'LeBronJames':81,\n",
    "              'CarmeloAnthony':66,\n",
    "              'DwightHoward':79,\n",
    "              'ChrisBosh':77,\n",
    "              'ChrisPaul':78,\n",
    "              'KevinDurant':74,\n",
    "              'DerrickRose':81,\n",
    "              'DwayneWade':79}\n",
    "print(type(Games_dict2008))\n",
    "Games2008=pd.Series(Games_dict2008)\n",
    "Games2008"
   ]
  },
  {
   "cell_type": "code",
   "execution_count": 50,
   "id": "95144458",
   "metadata": {},
   "outputs": [
    {
     "name": "stdout",
     "output_type": "stream",
     "text": [
      "<class 'dict'>\n"
     ]
    },
    {
     "data": {
      "text/plain": [
       "KobeBryant        2960\n",
       "JoeJohnson        3124\n",
       "LeBronJames       3054\n",
       "CarmeloAnthony    2277\n",
       "DwightHoward      2821\n",
       "ChrisBosh         2928\n",
       "ChrisPaul         3002\n",
       "KevinDurant       2885\n",
       "DerrickRose       3000\n",
       "DwayneWade        3048\n",
       "dtype: int64"
      ]
     },
     "execution_count": 50,
     "metadata": {},
     "output_type": "execute_result"
    }
   ],
   "source": [
    "Minutes_dict2008={'KobeBryant': 2960,\n",
    "              'JoeJohnson':3124,\n",
    "              'LeBronJames':3054,\n",
    "              'CarmeloAnthony':2277,\n",
    "              'DwightHoward':2821,\n",
    "              'ChrisBosh':2928,\n",
    "              'ChrisPaul':3002,\n",
    "              'KevinDurant':2885,\n",
    "              'DerrickRose':3000,\n",
    "              'DwayneWade':3048}\n",
    "print(type(Minutes_dict2008))\n",
    "Minutes2008=pd.Series(Minutes_dict2008)\n",
    "Minutes2008"
   ]
  },
  {
   "cell_type": "code",
   "execution_count": 51,
   "id": "e83f0569",
   "metadata": {},
   "outputs": [
    {
     "name": "stdout",
     "output_type": "stream",
     "text": [
      "<class 'dict'>\n"
     ]
    },
    {
     "data": {
      "text/plain": [
       "KobeBryant        800\n",
       "JoeJohnson        620\n",
       "LeBronJames       789\n",
       "CarmeloAnthony    535\n",
       "DwightHoward      560\n",
       "ChrisBosh         615\n",
       "ChrisPaul         631\n",
       "KevinDurant       661\n",
       "DerrickRose       574\n",
       "DwayneWade        854\n",
       "dtype: int64"
      ]
     },
     "execution_count": 51,
     "metadata": {},
     "output_type": "execute_result"
    }
   ],
   "source": [
    "Goals_dict2008={'KobeBryant': 800,\n",
    "              'JoeJohnson':620,\n",
    "              'LeBronJames':789,\n",
    "              'CarmeloAnthony':535,\n",
    "              'DwightHoward':560,\n",
    "              'ChrisBosh':615,\n",
    "              'ChrisPaul':631,\n",
    "              'KevinDurant':661,\n",
    "              'DerrickRose':574,\n",
    "              'DwayneWade':854}\n",
    "print(type(Goals_dict2008))\n",
    "Goals2008=pd.Series(Goals_dict2008)\n",
    "Goals2008"
   ]
  },
  {
   "cell_type": "code",
   "execution_count": 52,
   "id": "e801d7ea",
   "metadata": {},
   "outputs": [
    {
     "name": "stdout",
     "output_type": "stream",
     "text": [
      "<class 'dict'>\n"
     ]
    },
    {
     "data": {
      "text/plain": [
       "KobeBryant        1712\n",
       "JoeJohnson        1420\n",
       "LeBronJames       1613\n",
       "CarmeloAnthony    1207\n",
       "DwightHoward       979\n",
       "ChrisBosh         1263\n",
       "ChrisPaul         1255\n",
       "KevinDurant       1390\n",
       "DerrickRose       1208\n",
       "DwayneWade        1739\n",
       "dtype: int64"
      ]
     },
     "execution_count": 52,
     "metadata": {},
     "output_type": "execute_result"
    }
   ],
   "source": [
    "Attempts_dict2008={'KobeBryant': 1712,\n",
    "              'JoeJohnson':1420,\n",
    "              'LeBronJames':1613,\n",
    "              'CarmeloAnthony':1207,\n",
    "              'DwightHoward':979,\n",
    "              'ChrisBosh':1263,\n",
    "              'ChrisPaul':1255,\n",
    "              'KevinDurant':1390,\n",
    "              'DerrickRose':1208,\n",
    "              'DwayneWade':1739}\n",
    "print(type(Attempts_dict2008))\n",
    "Attempts2008=pd.Series(Attempts_dict2008)\n",
    "Attempts2008"
   ]
  },
  {
   "cell_type": "code",
   "execution_count": 53,
   "id": "a40bf377",
   "metadata": {},
   "outputs": [
    {
     "name": "stdout",
     "output_type": "stream",
     "text": [
      "<class 'dict'>\n"
     ]
    },
    {
     "data": {
      "text/plain": [
       "KobeBryant        2201\n",
       "JoeJohnson        1688\n",
       "LeBronJames       2304\n",
       "CarmeloAnthony    1504\n",
       "DwightHoward      1624\n",
       "ChrisBosh         1746\n",
       "ChrisPaul         1781\n",
       "KevinDurant       1871\n",
       "DerrickRose       1361\n",
       "DwayneWade        2386\n",
       "dtype: int64"
      ]
     },
     "execution_count": 53,
     "metadata": {},
     "output_type": "execute_result"
    }
   ],
   "source": [
    "Points_dict2008={'KobeBryant': 2201,\n",
    "              'JoeJohnson':1688,\n",
    "              'LeBronJames':2304,\n",
    "              'CarmeloAnthony':1504,\n",
    "              'DwightHoward':1624,\n",
    "              'ChrisBosh':1746,\n",
    "              'ChrisPaul':1781,\n",
    "              'KevinDurant':1871,\n",
    "              'DerrickRose':1361,\n",
    "              'DwayneWade':2386}\n",
    "print(type(Points_dict2008))\n",
    "Points2008=pd.Series(Points_dict2008)\n",
    "Points2008"
   ]
  },
  {
   "cell_type": "code",
   "execution_count": 54,
   "id": "e89a92f9",
   "metadata": {},
   "outputs": [
    {
     "data": {
      "text/html": [
       "<div>\n",
       "<style scoped>\n",
       "    .dataframe tbody tr th:only-of-type {\n",
       "        vertical-align: middle;\n",
       "    }\n",
       "\n",
       "    .dataframe tbody tr th {\n",
       "        vertical-align: top;\n",
       "    }\n",
       "\n",
       "    .dataframe thead th {\n",
       "        text-align: right;\n",
       "    }\n",
       "</style>\n",
       "<table border=\"1\" class=\"dataframe\">\n",
       "  <thead>\n",
       "    <tr style=\"text-align: right;\">\n",
       "      <th></th>\n",
       "      <th>Salaries2008</th>\n",
       "      <th>Games2008</th>\n",
       "      <th>Minutes2008</th>\n",
       "      <th>Goals2008</th>\n",
       "      <th>Attempts2008</th>\n",
       "      <th>Points2008</th>\n",
       "    </tr>\n",
       "  </thead>\n",
       "  <tbody>\n",
       "    <tr>\n",
       "      <th>KobeBryant</th>\n",
       "      <td>21262500</td>\n",
       "      <td>82</td>\n",
       "      <td>2960</td>\n",
       "      <td>800</td>\n",
       "      <td>1712</td>\n",
       "      <td>2201</td>\n",
       "    </tr>\n",
       "    <tr>\n",
       "      <th>JoeJohnson</th>\n",
       "      <td>14232567</td>\n",
       "      <td>79</td>\n",
       "      <td>3124</td>\n",
       "      <td>620</td>\n",
       "      <td>1420</td>\n",
       "      <td>1688</td>\n",
       "    </tr>\n",
       "    <tr>\n",
       "      <th>LeBronJames</th>\n",
       "      <td>14410581</td>\n",
       "      <td>81</td>\n",
       "      <td>3054</td>\n",
       "      <td>789</td>\n",
       "      <td>1613</td>\n",
       "      <td>2304</td>\n",
       "    </tr>\n",
       "    <tr>\n",
       "      <th>CarmeloAnthony</th>\n",
       "      <td>14410581</td>\n",
       "      <td>66</td>\n",
       "      <td>2277</td>\n",
       "      <td>535</td>\n",
       "      <td>1207</td>\n",
       "      <td>1504</td>\n",
       "    </tr>\n",
       "    <tr>\n",
       "      <th>DwightHoward</th>\n",
       "      <td>13758000</td>\n",
       "      <td>79</td>\n",
       "      <td>2821</td>\n",
       "      <td>560</td>\n",
       "      <td>979</td>\n",
       "      <td>1624</td>\n",
       "    </tr>\n",
       "    <tr>\n",
       "      <th>ChrisBosh</th>\n",
       "      <td>14410581</td>\n",
       "      <td>77</td>\n",
       "      <td>2928</td>\n",
       "      <td>615</td>\n",
       "      <td>1263</td>\n",
       "      <td>1746</td>\n",
       "    </tr>\n",
       "    <tr>\n",
       "      <th>ChrisPaul</th>\n",
       "      <td>4574189</td>\n",
       "      <td>78</td>\n",
       "      <td>3002</td>\n",
       "      <td>631</td>\n",
       "      <td>1255</td>\n",
       "      <td>1781</td>\n",
       "    </tr>\n",
       "    <tr>\n",
       "      <th>KevinDurant</th>\n",
       "      <td>4484040</td>\n",
       "      <td>74</td>\n",
       "      <td>2885</td>\n",
       "      <td>661</td>\n",
       "      <td>1390</td>\n",
       "      <td>1871</td>\n",
       "    </tr>\n",
       "    <tr>\n",
       "      <th>DerrickRose</th>\n",
       "      <td>4822800</td>\n",
       "      <td>81</td>\n",
       "      <td>3000</td>\n",
       "      <td>574</td>\n",
       "      <td>1208</td>\n",
       "      <td>1361</td>\n",
       "    </tr>\n",
       "    <tr>\n",
       "      <th>DwayneWade</th>\n",
       "      <td>14410581</td>\n",
       "      <td>79</td>\n",
       "      <td>3048</td>\n",
       "      <td>854</td>\n",
       "      <td>1739</td>\n",
       "      <td>2386</td>\n",
       "    </tr>\n",
       "  </tbody>\n",
       "</table>\n",
       "</div>"
      ],
      "text/plain": [
       "                Salaries2008  Games2008  Minutes2008  Goals2008  Attempts2008  \\\n",
       "KobeBryant          21262500         82         2960        800          1712   \n",
       "JoeJohnson          14232567         79         3124        620          1420   \n",
       "LeBronJames         14410581         81         3054        789          1613   \n",
       "CarmeloAnthony      14410581         66         2277        535          1207   \n",
       "DwightHoward        13758000         79         2821        560           979   \n",
       "ChrisBosh           14410581         77         2928        615          1263   \n",
       "ChrisPaul            4574189         78         3002        631          1255   \n",
       "KevinDurant          4484040         74         2885        661          1390   \n",
       "DerrickRose          4822800         81         3000        574          1208   \n",
       "DwayneWade          14410581         79         3048        854          1739   \n",
       "\n",
       "                Points2008  \n",
       "KobeBryant            2201  \n",
       "JoeJohnson            1688  \n",
       "LeBronJames           2304  \n",
       "CarmeloAnthony        1504  \n",
       "DwightHoward          1624  \n",
       "ChrisBosh             1746  \n",
       "ChrisPaul             1781  \n",
       "KevinDurant           1871  \n",
       "DerrickRose           1361  \n",
       "DwayneWade            2386  "
      ]
     },
     "execution_count": 54,
     "metadata": {},
     "output_type": "execute_result"
    }
   ],
   "source": [
    "Players2008=pd.DataFrame({'Salaries2008': Salaries2008, \n",
    "                      'Games2008':Games2008, \n",
    "                      'Minutes2008':Minutes2008, \n",
    "                      'Goals2008':Goals2008, \n",
    "                      'Attempts2008':Attempts2008, \n",
    "                      'Points2008':Points2008})\n",
    "Players2008"
   ]
  },
  {
   "cell_type": "code",
   "execution_count": 55,
   "id": "9a437a63",
   "metadata": {},
   "outputs": [
    {
     "name": "stdout",
     "output_type": "stream",
     "text": [
      "<class 'dict'>\n"
     ]
    },
    {
     "data": {
      "text/plain": [
       "KobeBryant        23034375\n",
       "JoeJohnson        14976754\n",
       "LeBronJames       15779912\n",
       "CarmeloAnthony    15779912\n",
       "DwightHoward      15202590\n",
       "ChrisBosh         15779912\n",
       "ChrisPaul         13520500\n",
       "KevinDurant        4796880\n",
       "DerrickRose        5184480\n",
       "DwayneWade        15779912\n",
       "dtype: int64"
      ]
     },
     "execution_count": 55,
     "metadata": {},
     "output_type": "execute_result"
    }
   ],
   "source": [
    "Salaries_dict2009={'KobeBryant':23034375,\n",
    "              'JoeJohnson':14976754,\n",
    "              'LeBronJames':15779912,\n",
    "              'CarmeloAnthony':15779912,\n",
    "              'DwightHoward':15202590,\n",
    "              'ChrisBosh':15779912,\n",
    "              'ChrisPaul':13520500,\n",
    "              'KevinDurant':4796880,\n",
    "              'DerrickRose':5184480,\n",
    "              'DwayneWade':15779912}\n",
    "print(type(Salaries_dict2009))\n",
    "Salaries2009=pd.Series(Salaries_dict2009)\n",
    "Salaries2009"
   ]
  },
  {
   "cell_type": "code",
   "execution_count": 56,
   "id": "114647e3",
   "metadata": {},
   "outputs": [
    {
     "name": "stdout",
     "output_type": "stream",
     "text": [
      "<class 'dict'>\n"
     ]
    },
    {
     "data": {
      "text/plain": [
       "KobeBryant        73\n",
       "JoeJohnson        76\n",
       "LeBronJames       76\n",
       "CarmeloAnthony    69\n",
       "DwightHoward      82\n",
       "ChrisBosh         70\n",
       "ChrisPaul         45\n",
       "KevinDurant       82\n",
       "DerrickRose       78\n",
       "DwayneWade        77\n",
       "dtype: int64"
      ]
     },
     "execution_count": 56,
     "metadata": {},
     "output_type": "execute_result"
    }
   ],
   "source": [
    "Games_dict2009={'KobeBryant': 73,\n",
    "              'JoeJohnson':76,\n",
    "              'LeBronJames':76,\n",
    "              'CarmeloAnthony':69,\n",
    "              'DwightHoward':82,\n",
    "              'ChrisBosh':70,\n",
    "              'ChrisPaul':45,\n",
    "              'KevinDurant':82,\n",
    "              'DerrickRose':78,\n",
    "              'DwayneWade':77}\n",
    "print(type(Games_dict2009))\n",
    "Games2009=pd.Series(Games_dict2009)\n",
    "Games2009"
   ]
  },
  {
   "cell_type": "code",
   "execution_count": 57,
   "id": "ba18ee2e",
   "metadata": {},
   "outputs": [
    {
     "name": "stdout",
     "output_type": "stream",
     "text": [
      "<class 'dict'>\n"
     ]
    },
    {
     "data": {
      "text/plain": [
       "KobeBryant        2835\n",
       "JoeJohnson        2886\n",
       "LeBronJames       3054\n",
       "CarmeloAnthony    2966\n",
       "DwightHoward      2634\n",
       "ChrisBosh         2526\n",
       "ChrisPaul         1712\n",
       "KevinDurant       3239\n",
       "DerrickRose       2871\n",
       "DwayneWade        2792\n",
       "dtype: int64"
      ]
     },
     "execution_count": 57,
     "metadata": {},
     "output_type": "execute_result"
    }
   ],
   "source": [
    "Minutes_dict2009={'KobeBryant': 2835,\n",
    "              'JoeJohnson':2886,\n",
    "              'LeBronJames':3054,\n",
    "              'CarmeloAnthony':2966,\n",
    "              'DwightHoward':2634,\n",
    "              'ChrisBosh':2526,\n",
    "              'ChrisPaul':1712,\n",
    "              'KevinDurant':3239,\n",
    "              'DerrickRose':2871,\n",
    "              'DwayneWade':2792}\n",
    "print(type(Minutes_dict2009))\n",
    "Minutes2009=pd.Series(Minutes_dict2009)\n",
    "Minutes2009"
   ]
  },
  {
   "cell_type": "code",
   "execution_count": 58,
   "id": "fc370029",
   "metadata": {},
   "outputs": [
    {
     "name": "stdout",
     "output_type": "stream",
     "text": [
      "<class 'dict'>\n"
     ]
    },
    {
     "data": {
      "text/plain": [
       "KobeBryant        800\n",
       "JoeJohnson        620\n",
       "LeBronJames       789\n",
       "CarmeloAnthony    535\n",
       "DwightHoward      560\n",
       "ChrisBosh         615\n",
       "ChrisPaul         631\n",
       "KevinDurant       661\n",
       "DerrickRose       574\n",
       "DwayneWade        854\n",
       "dtype: int64"
      ]
     },
     "execution_count": 58,
     "metadata": {},
     "output_type": "execute_result"
    }
   ],
   "source": [
    "Goals_dict2009={'KobeBryant': 800,\n",
    "              'JoeJohnson':620,\n",
    "              'LeBronJames':789,\n",
    "              'CarmeloAnthony':535,\n",
    "              'DwightHoward':560,\n",
    "              'ChrisBosh':615,\n",
    "              'ChrisPaul':631,\n",
    "              'KevinDurant':661,\n",
    "              'DerrickRose':574,\n",
    "              'DwayneWade':854}\n",
    "print(type(Goals_dict2009))\n",
    "Goals2009=pd.Series(Goals_dict2009)\n",
    "Goals2009"
   ]
  },
  {
   "cell_type": "code",
   "execution_count": 59,
   "id": "091028ec",
   "metadata": {},
   "outputs": [
    {
     "name": "stdout",
     "output_type": "stream",
     "text": [
      "<class 'dict'>\n"
     ]
    },
    {
     "data": {
      "text/plain": [
       "KobeBryant        1712\n",
       "JoeJohnson        1420\n",
       "LeBronJames       1613\n",
       "CarmeloAnthony    1207\n",
       "DwightHoward       979\n",
       "ChrisBosh         1263\n",
       "ChrisPaul         1255\n",
       "KevinDurant       1390\n",
       "DerrickRose       1208\n",
       "DwayneWade        1739\n",
       "dtype: int64"
      ]
     },
     "execution_count": 59,
     "metadata": {},
     "output_type": "execute_result"
    }
   ],
   "source": [
    "Attempts_dict2009={'KobeBryant': 1712,\n",
    "              'JoeJohnson':1420,\n",
    "              'LeBronJames':1613,\n",
    "              'CarmeloAnthony':1207,\n",
    "              'DwightHoward':979,\n",
    "              'ChrisBosh':1263,\n",
    "              'ChrisPaul':1255,\n",
    "              'KevinDurant':1390,\n",
    "              'DerrickRose':1208,\n",
    "              'DwayneWade':1739}\n",
    "print(type(Attempts_dict2009))\n",
    "Attempts2009=pd.Series(Attempts_dict2009)\n",
    "Attempts2009"
   ]
  },
  {
   "cell_type": "code",
   "execution_count": 60,
   "id": "2e9a22c3",
   "metadata": {},
   "outputs": [
    {
     "name": "stdout",
     "output_type": "stream",
     "text": [
      "<class 'dict'>\n"
     ]
    },
    {
     "data": {
      "text/plain": [
       "KobeBryant        2201\n",
       "JoeJohnson        1688\n",
       "LeBronJames       2304\n",
       "CarmeloAnthony    1504\n",
       "DwightHoward      1624\n",
       "ChrisBosh         1746\n",
       "ChrisPaul         1781\n",
       "KevinDurant       1871\n",
       "DerrickRose       1361\n",
       "DwayneWade        2386\n",
       "dtype: int64"
      ]
     },
     "execution_count": 60,
     "metadata": {},
     "output_type": "execute_result"
    }
   ],
   "source": [
    "Points_dict2009={'KobeBryant': 2201,\n",
    "              'JoeJohnson':1688,\n",
    "              'LeBronJames':2304,\n",
    "              'CarmeloAnthony':1504,\n",
    "              'DwightHoward':1624,\n",
    "              'ChrisBosh':1746,\n",
    "              'ChrisPaul':1781,\n",
    "              'KevinDurant':1871,\n",
    "              'DerrickRose':1361,\n",
    "              'DwayneWade':2386}\n",
    "print(type(Points_dict2009))\n",
    "Points2009=pd.Series(Points_dict2009)\n",
    "Points2009"
   ]
  },
  {
   "cell_type": "code",
   "execution_count": 61,
   "id": "315eb0a9",
   "metadata": {},
   "outputs": [
    {
     "data": {
      "text/html": [
       "<div>\n",
       "<style scoped>\n",
       "    .dataframe tbody tr th:only-of-type {\n",
       "        vertical-align: middle;\n",
       "    }\n",
       "\n",
       "    .dataframe tbody tr th {\n",
       "        vertical-align: top;\n",
       "    }\n",
       "\n",
       "    .dataframe thead th {\n",
       "        text-align: right;\n",
       "    }\n",
       "</style>\n",
       "<table border=\"1\" class=\"dataframe\">\n",
       "  <thead>\n",
       "    <tr style=\"text-align: right;\">\n",
       "      <th></th>\n",
       "      <th>Salaries2009</th>\n",
       "      <th>Games2009</th>\n",
       "      <th>Minutes2009</th>\n",
       "      <th>Goals2009</th>\n",
       "      <th>Attempts2009</th>\n",
       "      <th>Points2009</th>\n",
       "    </tr>\n",
       "  </thead>\n",
       "  <tbody>\n",
       "    <tr>\n",
       "      <th>KobeBryant</th>\n",
       "      <td>23034375</td>\n",
       "      <td>73</td>\n",
       "      <td>2835</td>\n",
       "      <td>800</td>\n",
       "      <td>1712</td>\n",
       "      <td>2201</td>\n",
       "    </tr>\n",
       "    <tr>\n",
       "      <th>JoeJohnson</th>\n",
       "      <td>14976754</td>\n",
       "      <td>76</td>\n",
       "      <td>2886</td>\n",
       "      <td>620</td>\n",
       "      <td>1420</td>\n",
       "      <td>1688</td>\n",
       "    </tr>\n",
       "    <tr>\n",
       "      <th>LeBronJames</th>\n",
       "      <td>15779912</td>\n",
       "      <td>76</td>\n",
       "      <td>3054</td>\n",
       "      <td>789</td>\n",
       "      <td>1613</td>\n",
       "      <td>2304</td>\n",
       "    </tr>\n",
       "    <tr>\n",
       "      <th>CarmeloAnthony</th>\n",
       "      <td>15779912</td>\n",
       "      <td>69</td>\n",
       "      <td>2966</td>\n",
       "      <td>535</td>\n",
       "      <td>1207</td>\n",
       "      <td>1504</td>\n",
       "    </tr>\n",
       "    <tr>\n",
       "      <th>DwightHoward</th>\n",
       "      <td>15202590</td>\n",
       "      <td>82</td>\n",
       "      <td>2634</td>\n",
       "      <td>560</td>\n",
       "      <td>979</td>\n",
       "      <td>1624</td>\n",
       "    </tr>\n",
       "    <tr>\n",
       "      <th>ChrisBosh</th>\n",
       "      <td>15779912</td>\n",
       "      <td>70</td>\n",
       "      <td>2526</td>\n",
       "      <td>615</td>\n",
       "      <td>1263</td>\n",
       "      <td>1746</td>\n",
       "    </tr>\n",
       "    <tr>\n",
       "      <th>ChrisPaul</th>\n",
       "      <td>13520500</td>\n",
       "      <td>45</td>\n",
       "      <td>1712</td>\n",
       "      <td>631</td>\n",
       "      <td>1255</td>\n",
       "      <td>1781</td>\n",
       "    </tr>\n",
       "    <tr>\n",
       "      <th>KevinDurant</th>\n",
       "      <td>4796880</td>\n",
       "      <td>82</td>\n",
       "      <td>3239</td>\n",
       "      <td>661</td>\n",
       "      <td>1390</td>\n",
       "      <td>1871</td>\n",
       "    </tr>\n",
       "    <tr>\n",
       "      <th>DerrickRose</th>\n",
       "      <td>5184480</td>\n",
       "      <td>78</td>\n",
       "      <td>2871</td>\n",
       "      <td>574</td>\n",
       "      <td>1208</td>\n",
       "      <td>1361</td>\n",
       "    </tr>\n",
       "    <tr>\n",
       "      <th>DwayneWade</th>\n",
       "      <td>15779912</td>\n",
       "      <td>77</td>\n",
       "      <td>2792</td>\n",
       "      <td>854</td>\n",
       "      <td>1739</td>\n",
       "      <td>2386</td>\n",
       "    </tr>\n",
       "  </tbody>\n",
       "</table>\n",
       "</div>"
      ],
      "text/plain": [
       "                Salaries2009  Games2009  Minutes2009  Goals2009  Attempts2009  \\\n",
       "KobeBryant          23034375         73         2835        800          1712   \n",
       "JoeJohnson          14976754         76         2886        620          1420   \n",
       "LeBronJames         15779912         76         3054        789          1613   \n",
       "CarmeloAnthony      15779912         69         2966        535          1207   \n",
       "DwightHoward        15202590         82         2634        560           979   \n",
       "ChrisBosh           15779912         70         2526        615          1263   \n",
       "ChrisPaul           13520500         45         1712        631          1255   \n",
       "KevinDurant          4796880         82         3239        661          1390   \n",
       "DerrickRose          5184480         78         2871        574          1208   \n",
       "DwayneWade          15779912         77         2792        854          1739   \n",
       "\n",
       "                Points2009  \n",
       "KobeBryant            2201  \n",
       "JoeJohnson            1688  \n",
       "LeBronJames           2304  \n",
       "CarmeloAnthony        1504  \n",
       "DwightHoward          1624  \n",
       "ChrisBosh             1746  \n",
       "ChrisPaul             1781  \n",
       "KevinDurant           1871  \n",
       "DerrickRose           1361  \n",
       "DwayneWade            2386  "
      ]
     },
     "execution_count": 61,
     "metadata": {},
     "output_type": "execute_result"
    }
   ],
   "source": [
    "Players2009=pd.DataFrame({'Salaries2009': Salaries2009, \n",
    "                      'Games2009':Games2009, \n",
    "                      'Minutes2009':Minutes2009, \n",
    "                      'Goals2009':Goals2009, \n",
    "                      'Attempts2009':Attempts2009, \n",
    "                      'Points2009':Points2009})\n",
    "Players2009"
   ]
  },
  {
   "cell_type": "code",
   "execution_count": 62,
   "id": "4fe0c819",
   "metadata": {},
   "outputs": [
    {
     "name": "stdout",
     "output_type": "stream",
     "text": [
      "<class 'dict'>\n"
     ]
    },
    {
     "data": {
      "text/plain": [
       "KobeBryant        23034375\n",
       "JoeJohnson        14976754\n",
       "LeBronJames       15779912\n",
       "CarmeloAnthony    15779912\n",
       "DwightHoward      15202590\n",
       "ChrisBosh         15779912\n",
       "ChrisPaul         13520500\n",
       "KevinDurant        4796880\n",
       "DerrickRose        5184480\n",
       "DwayneWade        15779912\n",
       "dtype: int64"
      ]
     },
     "execution_count": 62,
     "metadata": {},
     "output_type": "execute_result"
    }
   ],
   "source": [
    "Salaries_dict2010={'KobeBryant':23034375,\n",
    "              'JoeJohnson':14976754,\n",
    "              'LeBronJames':15779912,\n",
    "              'CarmeloAnthony':15779912,\n",
    "              'DwightHoward':15202590,\n",
    "              'ChrisBosh':15779912,\n",
    "              'ChrisPaul':13520500,\n",
    "              'KevinDurant':4796880,\n",
    "              'DerrickRose':5184480,\n",
    "              'DwayneWade':15779912}\n",
    "print(type(Salaries_dict2010))\n",
    "Salaries2010=pd.Series(Salaries_dict2010)\n",
    "Salaries2010\n"
   ]
  },
  {
   "cell_type": "code",
   "execution_count": 63,
   "id": "dae6cdc7",
   "metadata": {},
   "outputs": [
    {
     "name": "stdout",
     "output_type": "stream",
     "text": [
      "<class 'dict'>\n"
     ]
    },
    {
     "data": {
      "text/plain": [
       "KobeBryant        73\n",
       "JoeJohnson        76\n",
       "LeBronJames       76\n",
       "CarmeloAnthony    69\n",
       "DwightHoward      82\n",
       "ChrisBosh         70\n",
       "ChrisPaul         45\n",
       "KevinDurant       82\n",
       "DerrickRose       78\n",
       "DwayneWade        77\n",
       "dtype: int64"
      ]
     },
     "execution_count": 63,
     "metadata": {},
     "output_type": "execute_result"
    }
   ],
   "source": [
    "Games_dict2010={'KobeBryant': 73,\n",
    "              'JoeJohnson':76,\n",
    "              'LeBronJames':76,\n",
    "              'CarmeloAnthony':69,\n",
    "              'DwightHoward':82,\n",
    "              'ChrisBosh':70,\n",
    "              'ChrisPaul':45,\n",
    "              'KevinDurant':82,\n",
    "              'DerrickRose':78,\n",
    "              'DwayneWade':77}\n",
    "print(type(Games_dict2010))\n",
    "Games2010=pd.Series(Games_dict2010)\n",
    "Games2010"
   ]
  },
  {
   "cell_type": "code",
   "execution_count": 64,
   "id": "c37237e4",
   "metadata": {},
   "outputs": [
    {
     "name": "stdout",
     "output_type": "stream",
     "text": [
      "<class 'dict'>\n"
     ]
    },
    {
     "data": {
      "text/plain": [
       "KobeBryant        2835\n",
       "JoeJohnson        2886\n",
       "LeBronJames       3054\n",
       "CarmeloAnthony    2966\n",
       "DwightHoward      2634\n",
       "ChrisBosh         2526\n",
       "ChrisPaul         1712\n",
       "KevinDurant       3239\n",
       "DerrickRose       2871\n",
       "DwayneWade        2792\n",
       "dtype: int64"
      ]
     },
     "execution_count": 64,
     "metadata": {},
     "output_type": "execute_result"
    }
   ],
   "source": [
    "Minutes_dict2010={'KobeBryant': 2835,\n",
    "              'JoeJohnson':2886,\n",
    "              'LeBronJames':3054,\n",
    "              'CarmeloAnthony':2966,\n",
    "              'DwightHoward':2634,\n",
    "              'ChrisBosh':2526,\n",
    "              'ChrisPaul':1712,\n",
    "              'KevinDurant':3239,\n",
    "              'DerrickRose':2871,\n",
    "              'DwayneWade':2792}\n",
    "print(type(Minutes_dict2010))\n",
    "Minutes2010=pd.Series(Minutes_dict2010)\n",
    "Minutes2010"
   ]
  },
  {
   "cell_type": "code",
   "execution_count": 65,
   "id": "6d775cfd",
   "metadata": {},
   "outputs": [
    {
     "name": "stdout",
     "output_type": "stream",
     "text": [
      "<class 'dict'>\n"
     ]
    },
    {
     "data": {
      "text/plain": [
       "KobeBryant        800\n",
       "JoeJohnson        620\n",
       "LeBronJames       789\n",
       "CarmeloAnthony    535\n",
       "DwightHoward      560\n",
       "ChrisBosh         615\n",
       "ChrisPaul         631\n",
       "KevinDurant       661\n",
       "DerrickRose       574\n",
       "DwayneWade        854\n",
       "dtype: int64"
      ]
     },
     "execution_count": 65,
     "metadata": {},
     "output_type": "execute_result"
    }
   ],
   "source": [
    "Goals_dict2010={'KobeBryant': 800,\n",
    "              'JoeJohnson':620,\n",
    "              'LeBronJames':789,\n",
    "              'CarmeloAnthony':535,\n",
    "              'DwightHoward':560,\n",
    "              'ChrisBosh':615,\n",
    "              'ChrisPaul':631,\n",
    "              'KevinDurant':661,\n",
    "              'DerrickRose':574,\n",
    "              'DwayneWade':854}\n",
    "print(type(Goals_dict2010))\n",
    "Goals2010=pd.Series(Goals_dict2010)\n",
    "Goals2010"
   ]
  },
  {
   "cell_type": "code",
   "execution_count": 66,
   "id": "4348ed0d",
   "metadata": {},
   "outputs": [
    {
     "name": "stdout",
     "output_type": "stream",
     "text": [
      "<class 'dict'>\n"
     ]
    },
    {
     "data": {
      "text/plain": [
       "KobeBryant        1712\n",
       "JoeJohnson        1420\n",
       "LeBronJames       1613\n",
       "CarmeloAnthony    1207\n",
       "DwightHoward       979\n",
       "ChrisBosh         1263\n",
       "ChrisPaul         1255\n",
       "KevinDurant       1390\n",
       "DerrickRose       1208\n",
       "DwayneWade        1739\n",
       "dtype: int64"
      ]
     },
     "execution_count": 66,
     "metadata": {},
     "output_type": "execute_result"
    }
   ],
   "source": [
    "Attempts_dict2010={'KobeBryant': 1712,\n",
    "              'JoeJohnson':1420,\n",
    "              'LeBronJames':1613,\n",
    "              'CarmeloAnthony':1207,\n",
    "              'DwightHoward':979,\n",
    "              'ChrisBosh':1263,\n",
    "              'ChrisPaul':1255,\n",
    "              'KevinDurant':1390,\n",
    "              'DerrickRose':1208,\n",
    "              'DwayneWade':1739}\n",
    "print(type(Attempts_dict2010))\n",
    "Attempts2010=pd.Series(Attempts_dict2010)\n",
    "Attempts2010"
   ]
  },
  {
   "cell_type": "code",
   "execution_count": 67,
   "id": "69d3ba3d",
   "metadata": {},
   "outputs": [
    {
     "name": "stdout",
     "output_type": "stream",
     "text": [
      "<class 'dict'>\n"
     ]
    },
    {
     "data": {
      "text/plain": [
       "KobeBryant        2201\n",
       "JoeJohnson        1688\n",
       "LeBronJames       2304\n",
       "CarmeloAnthony    1504\n",
       "DwightHoward      1624\n",
       "ChrisBosh         1746\n",
       "ChrisPaul         1781\n",
       "KevinDurant       1871\n",
       "DerrickRose       1361\n",
       "DwayneWade        2386\n",
       "dtype: int64"
      ]
     },
     "execution_count": 67,
     "metadata": {},
     "output_type": "execute_result"
    }
   ],
   "source": [
    "Points_dict2010={'KobeBryant': 2201,\n",
    "              'JoeJohnson':1688,\n",
    "              'LeBronJames':2304,\n",
    "              'CarmeloAnthony':1504,\n",
    "              'DwightHoward':1624,\n",
    "              'ChrisBosh':1746,\n",
    "              'ChrisPaul':1781,\n",
    "              'KevinDurant':1871,\n",
    "              'DerrickRose':1361,\n",
    "              'DwayneWade':2386}\n",
    "print(type(Points_dict2010))\n",
    "Points2010=pd.Series(Points_dict2010)\n",
    "Points2010"
   ]
  },
  {
   "cell_type": "code",
   "execution_count": 68,
   "id": "af92283d",
   "metadata": {},
   "outputs": [
    {
     "data": {
      "text/html": [
       "<div>\n",
       "<style scoped>\n",
       "    .dataframe tbody tr th:only-of-type {\n",
       "        vertical-align: middle;\n",
       "    }\n",
       "\n",
       "    .dataframe tbody tr th {\n",
       "        vertical-align: top;\n",
       "    }\n",
       "\n",
       "    .dataframe thead th {\n",
       "        text-align: right;\n",
       "    }\n",
       "</style>\n",
       "<table border=\"1\" class=\"dataframe\">\n",
       "  <thead>\n",
       "    <tr style=\"text-align: right;\">\n",
       "      <th></th>\n",
       "      <th>Salaries2010</th>\n",
       "      <th>Games2010</th>\n",
       "      <th>Minutes2010</th>\n",
       "      <th>Goals2010</th>\n",
       "      <th>Attempts2010</th>\n",
       "      <th>Points2010</th>\n",
       "    </tr>\n",
       "  </thead>\n",
       "  <tbody>\n",
       "    <tr>\n",
       "      <th>KobeBryant</th>\n",
       "      <td>23034375</td>\n",
       "      <td>73</td>\n",
       "      <td>2835</td>\n",
       "      <td>800</td>\n",
       "      <td>1712</td>\n",
       "      <td>2201</td>\n",
       "    </tr>\n",
       "    <tr>\n",
       "      <th>JoeJohnson</th>\n",
       "      <td>14976754</td>\n",
       "      <td>76</td>\n",
       "      <td>2886</td>\n",
       "      <td>620</td>\n",
       "      <td>1420</td>\n",
       "      <td>1688</td>\n",
       "    </tr>\n",
       "    <tr>\n",
       "      <th>LeBronJames</th>\n",
       "      <td>15779912</td>\n",
       "      <td>76</td>\n",
       "      <td>3054</td>\n",
       "      <td>789</td>\n",
       "      <td>1613</td>\n",
       "      <td>2304</td>\n",
       "    </tr>\n",
       "    <tr>\n",
       "      <th>CarmeloAnthony</th>\n",
       "      <td>15779912</td>\n",
       "      <td>69</td>\n",
       "      <td>2966</td>\n",
       "      <td>535</td>\n",
       "      <td>1207</td>\n",
       "      <td>1504</td>\n",
       "    </tr>\n",
       "    <tr>\n",
       "      <th>DwightHoward</th>\n",
       "      <td>15202590</td>\n",
       "      <td>82</td>\n",
       "      <td>2634</td>\n",
       "      <td>560</td>\n",
       "      <td>979</td>\n",
       "      <td>1624</td>\n",
       "    </tr>\n",
       "    <tr>\n",
       "      <th>ChrisBosh</th>\n",
       "      <td>15779912</td>\n",
       "      <td>70</td>\n",
       "      <td>2526</td>\n",
       "      <td>615</td>\n",
       "      <td>1263</td>\n",
       "      <td>1746</td>\n",
       "    </tr>\n",
       "    <tr>\n",
       "      <th>ChrisPaul</th>\n",
       "      <td>13520500</td>\n",
       "      <td>45</td>\n",
       "      <td>1712</td>\n",
       "      <td>631</td>\n",
       "      <td>1255</td>\n",
       "      <td>1781</td>\n",
       "    </tr>\n",
       "    <tr>\n",
       "      <th>KevinDurant</th>\n",
       "      <td>4796880</td>\n",
       "      <td>82</td>\n",
       "      <td>3239</td>\n",
       "      <td>661</td>\n",
       "      <td>1390</td>\n",
       "      <td>1871</td>\n",
       "    </tr>\n",
       "    <tr>\n",
       "      <th>DerrickRose</th>\n",
       "      <td>5184480</td>\n",
       "      <td>78</td>\n",
       "      <td>2871</td>\n",
       "      <td>574</td>\n",
       "      <td>1208</td>\n",
       "      <td>1361</td>\n",
       "    </tr>\n",
       "    <tr>\n",
       "      <th>DwayneWade</th>\n",
       "      <td>15779912</td>\n",
       "      <td>77</td>\n",
       "      <td>2792</td>\n",
       "      <td>854</td>\n",
       "      <td>1739</td>\n",
       "      <td>2386</td>\n",
       "    </tr>\n",
       "  </tbody>\n",
       "</table>\n",
       "</div>"
      ],
      "text/plain": [
       "                Salaries2010  Games2010  Minutes2010  Goals2010  Attempts2010  \\\n",
       "KobeBryant          23034375         73         2835        800          1712   \n",
       "JoeJohnson          14976754         76         2886        620          1420   \n",
       "LeBronJames         15779912         76         3054        789          1613   \n",
       "CarmeloAnthony      15779912         69         2966        535          1207   \n",
       "DwightHoward        15202590         82         2634        560           979   \n",
       "ChrisBosh           15779912         70         2526        615          1263   \n",
       "ChrisPaul           13520500         45         1712        631          1255   \n",
       "KevinDurant          4796880         82         3239        661          1390   \n",
       "DerrickRose          5184480         78         2871        574          1208   \n",
       "DwayneWade          15779912         77         2792        854          1739   \n",
       "\n",
       "                Points2010  \n",
       "KobeBryant            2201  \n",
       "JoeJohnson            1688  \n",
       "LeBronJames           2304  \n",
       "CarmeloAnthony        1504  \n",
       "DwightHoward          1624  \n",
       "ChrisBosh             1746  \n",
       "ChrisPaul             1781  \n",
       "KevinDurant           1871  \n",
       "DerrickRose           1361  \n",
       "DwayneWade            2386  "
      ]
     },
     "execution_count": 68,
     "metadata": {},
     "output_type": "execute_result"
    }
   ],
   "source": [
    "Players2010=pd.DataFrame({'Salaries2010': Salaries2010, \n",
    "                      'Games2010':Games2010, \n",
    "                      'Minutes2010':Minutes2010, \n",
    "                      'Goals2010':Goals2010, \n",
    "                      'Attempts2010':Attempts2010, \n",
    "                      'Points2010':Points2010})\n",
    "Players2010"
   ]
  },
  {
   "cell_type": "code",
   "execution_count": 69,
   "id": "6404461a",
   "metadata": {},
   "outputs": [
    {
     "name": "stdout",
     "output_type": "stream",
     "text": [
      "<class 'dict'>\n"
     ]
    },
    {
     "data": {
      "text/plain": [
       "KobeBryant        23034375\n",
       "JoeJohnson        14976754\n",
       "LeBronJames       15779912\n",
       "CarmeloAnthony    15779912\n",
       "DwightHoward      15202590\n",
       "ChrisBosh         15779912\n",
       "ChrisPaul         13520500\n",
       "KevinDurant        4796880\n",
       "DerrickRose        5184480\n",
       "DwayneWade        15779912\n",
       "dtype: int64"
      ]
     },
     "execution_count": 69,
     "metadata": {},
     "output_type": "execute_result"
    }
   ],
   "source": [
    "Salaries_dict2011={'KobeBryant':23034375,\n",
    "              'JoeJohnson':14976754,\n",
    "              'LeBronJames':15779912,\n",
    "              'CarmeloAnthony':15779912,\n",
    "              'DwightHoward':15202590,\n",
    "              'ChrisBosh':15779912,\n",
    "              'ChrisPaul':13520500,\n",
    "              'KevinDurant':4796880,\n",
    "              'DerrickRose':5184480,\n",
    "              'DwayneWade':15779912}\n",
    "print(type(Salaries_dict2011))\n",
    "Salaries2011=pd.Series(Salaries_dict2011)\n",
    "Salaries2011"
   ]
  },
  {
   "cell_type": "code",
   "execution_count": 70,
   "id": "c4d85cac",
   "metadata": {},
   "outputs": [
    {
     "name": "stdout",
     "output_type": "stream",
     "text": [
      "<class 'dict'>\n"
     ]
    },
    {
     "data": {
      "text/plain": [
       "KobeBryant        73\n",
       "JoeJohnson        76\n",
       "LeBronJames       76\n",
       "CarmeloAnthony    69\n",
       "DwightHoward      82\n",
       "ChrisBosh         70\n",
       "ChrisPaul         45\n",
       "KevinDurant       82\n",
       "DerrickRose       78\n",
       "DwayneWade        77\n",
       "dtype: int64"
      ]
     },
     "execution_count": 70,
     "metadata": {},
     "output_type": "execute_result"
    }
   ],
   "source": [
    "Games_dict2011={'KobeBryant': 73,\n",
    "              'JoeJohnson':76,\n",
    "              'LeBronJames':76,\n",
    "              'CarmeloAnthony':69,\n",
    "              'DwightHoward':82,\n",
    "              'ChrisBosh':70,\n",
    "              'ChrisPaul':45,\n",
    "              'KevinDurant':82,\n",
    "              'DerrickRose':78,\n",
    "              'DwayneWade':77}\n",
    "print(type(Games_dict2011))\n",
    "Games2011=pd.Series(Games_dict2011)\n",
    "Games2011"
   ]
  },
  {
   "cell_type": "code",
   "execution_count": 71,
   "id": "ee828c6f",
   "metadata": {},
   "outputs": [
    {
     "name": "stdout",
     "output_type": "stream",
     "text": [
      "<class 'dict'>\n"
     ]
    },
    {
     "data": {
      "text/plain": [
       "KobeBryant        2835\n",
       "JoeJohnson        2886\n",
       "LeBronJames       3054\n",
       "CarmeloAnthony    2966\n",
       "DwightHoward      2634\n",
       "ChrisBosh         2526\n",
       "ChrisPaul         1712\n",
       "KevinDurant       3239\n",
       "DerrickRose       2871\n",
       "DwayneWade        2792\n",
       "dtype: int64"
      ]
     },
     "execution_count": 71,
     "metadata": {},
     "output_type": "execute_result"
    }
   ],
   "source": [
    "Minutes_dict2011={'KobeBryant': 2835,\n",
    "              'JoeJohnson':2886,\n",
    "              'LeBronJames':3054,\n",
    "              'CarmeloAnthony':2966,\n",
    "              'DwightHoward':2634,\n",
    "              'ChrisBosh':2526,\n",
    "              'ChrisPaul':1712,\n",
    "              'KevinDurant':3239,\n",
    "              'DerrickRose':2871,\n",
    "              'DwayneWade':2792}\n",
    "print(type(Minutes_dict2011))\n",
    "Minutes2011=pd.Series(Minutes_dict2011)\n",
    "Minutes2011"
   ]
  },
  {
   "cell_type": "code",
   "execution_count": 72,
   "id": "629fda85",
   "metadata": {},
   "outputs": [
    {
     "name": "stdout",
     "output_type": "stream",
     "text": [
      "<class 'dict'>\n"
     ]
    },
    {
     "data": {
      "text/plain": [
       "KobeBryant        800\n",
       "JoeJohnson        620\n",
       "LeBronJames       789\n",
       "CarmeloAnthony    535\n",
       "DwightHoward      560\n",
       "ChrisBosh         615\n",
       "ChrisPaul         631\n",
       "KevinDurant       661\n",
       "DerrickRose       574\n",
       "DwayneWade        854\n",
       "dtype: int64"
      ]
     },
     "execution_count": 72,
     "metadata": {},
     "output_type": "execute_result"
    }
   ],
   "source": [
    "Goals_dict2011={'KobeBryant': 800,\n",
    "              'JoeJohnson':620,\n",
    "              'LeBronJames':789,\n",
    "              'CarmeloAnthony':535,\n",
    "              'DwightHoward':560,\n",
    "              'ChrisBosh':615,\n",
    "              'ChrisPaul':631,\n",
    "              'KevinDurant':661,\n",
    "              'DerrickRose':574,\n",
    "              'DwayneWade':854}\n",
    "print(type(Goals_dict2011))\n",
    "Goals2011=pd.Series(Goals_dict2011)\n",
    "Goals2011"
   ]
  },
  {
   "cell_type": "code",
   "execution_count": 73,
   "id": "aa624d8b",
   "metadata": {},
   "outputs": [
    {
     "name": "stdout",
     "output_type": "stream",
     "text": [
      "<class 'dict'>\n"
     ]
    },
    {
     "data": {
      "text/plain": [
       "KobeBryant        1712\n",
       "JoeJohnson        1420\n",
       "LeBronJames       1613\n",
       "CarmeloAnthony    1207\n",
       "DwightHoward       979\n",
       "ChrisBosh         1263\n",
       "ChrisPaul         1255\n",
       "KevinDurant       1390\n",
       "DerrickRose       1208\n",
       "DwayneWade        1739\n",
       "dtype: int64"
      ]
     },
     "execution_count": 73,
     "metadata": {},
     "output_type": "execute_result"
    }
   ],
   "source": [
    "Attempts_dict2011={'KobeBryant': 1712,\n",
    "              'JoeJohnson':1420,\n",
    "              'LeBronJames':1613,\n",
    "              'CarmeloAnthony':1207,\n",
    "              'DwightHoward':979,\n",
    "              'ChrisBosh':1263,\n",
    "              'ChrisPaul':1255,\n",
    "              'KevinDurant':1390,\n",
    "              'DerrickRose':1208,\n",
    "              'DwayneWade':1739}\n",
    "print(type(Attempts_dict2011))\n",
    "Attempts2011=pd.Series(Attempts_dict2011)\n",
    "Attempts2011"
   ]
  },
  {
   "cell_type": "code",
   "execution_count": 74,
   "id": "5a8aa8e0",
   "metadata": {},
   "outputs": [
    {
     "name": "stdout",
     "output_type": "stream",
     "text": [
      "<class 'dict'>\n"
     ]
    },
    {
     "data": {
      "text/plain": [
       "KobeBryant        2201\n",
       "JoeJohnson        1688\n",
       "LeBronJames       2304\n",
       "CarmeloAnthony    1504\n",
       "DwightHoward      1624\n",
       "ChrisBosh         1746\n",
       "ChrisPaul         1781\n",
       "KevinDurant       1871\n",
       "DerrickRose       1361\n",
       "DwayneWade        2386\n",
       "dtype: int64"
      ]
     },
     "execution_count": 74,
     "metadata": {},
     "output_type": "execute_result"
    }
   ],
   "source": [
    "Points_dict2011={'KobeBryant': 2201,\n",
    "              'JoeJohnson':1688,\n",
    "              'LeBronJames':2304,\n",
    "              'CarmeloAnthony':1504,\n",
    "              'DwightHoward':1624,\n",
    "              'ChrisBosh':1746,\n",
    "              'ChrisPaul':1781,\n",
    "              'KevinDurant':1871,\n",
    "              'DerrickRose':1361,\n",
    "              'DwayneWade':2386}\n",
    "print(type(Points_dict2011))\n",
    "Points2011=pd.Series(Points_dict2011)\n",
    "Points2011"
   ]
  },
  {
   "cell_type": "code",
   "execution_count": 75,
   "id": "da532202",
   "metadata": {},
   "outputs": [
    {
     "data": {
      "text/html": [
       "<div>\n",
       "<style scoped>\n",
       "    .dataframe tbody tr th:only-of-type {\n",
       "        vertical-align: middle;\n",
       "    }\n",
       "\n",
       "    .dataframe tbody tr th {\n",
       "        vertical-align: top;\n",
       "    }\n",
       "\n",
       "    .dataframe thead th {\n",
       "        text-align: right;\n",
       "    }\n",
       "</style>\n",
       "<table border=\"1\" class=\"dataframe\">\n",
       "  <thead>\n",
       "    <tr style=\"text-align: right;\">\n",
       "      <th></th>\n",
       "      <th>Salaries2011</th>\n",
       "      <th>Games2011</th>\n",
       "      <th>Minutes2011</th>\n",
       "      <th>Goals2011</th>\n",
       "      <th>Attempts2011</th>\n",
       "      <th>Points2011</th>\n",
       "    </tr>\n",
       "  </thead>\n",
       "  <tbody>\n",
       "    <tr>\n",
       "      <th>KobeBryant</th>\n",
       "      <td>23034375</td>\n",
       "      <td>73</td>\n",
       "      <td>2835</td>\n",
       "      <td>800</td>\n",
       "      <td>1712</td>\n",
       "      <td>2201</td>\n",
       "    </tr>\n",
       "    <tr>\n",
       "      <th>JoeJohnson</th>\n",
       "      <td>14976754</td>\n",
       "      <td>76</td>\n",
       "      <td>2886</td>\n",
       "      <td>620</td>\n",
       "      <td>1420</td>\n",
       "      <td>1688</td>\n",
       "    </tr>\n",
       "    <tr>\n",
       "      <th>LeBronJames</th>\n",
       "      <td>15779912</td>\n",
       "      <td>76</td>\n",
       "      <td>3054</td>\n",
       "      <td>789</td>\n",
       "      <td>1613</td>\n",
       "      <td>2304</td>\n",
       "    </tr>\n",
       "    <tr>\n",
       "      <th>CarmeloAnthony</th>\n",
       "      <td>15779912</td>\n",
       "      <td>69</td>\n",
       "      <td>2966</td>\n",
       "      <td>535</td>\n",
       "      <td>1207</td>\n",
       "      <td>1504</td>\n",
       "    </tr>\n",
       "    <tr>\n",
       "      <th>DwightHoward</th>\n",
       "      <td>15202590</td>\n",
       "      <td>82</td>\n",
       "      <td>2634</td>\n",
       "      <td>560</td>\n",
       "      <td>979</td>\n",
       "      <td>1624</td>\n",
       "    </tr>\n",
       "    <tr>\n",
       "      <th>ChrisBosh</th>\n",
       "      <td>15779912</td>\n",
       "      <td>70</td>\n",
       "      <td>2526</td>\n",
       "      <td>615</td>\n",
       "      <td>1263</td>\n",
       "      <td>1746</td>\n",
       "    </tr>\n",
       "    <tr>\n",
       "      <th>ChrisPaul</th>\n",
       "      <td>13520500</td>\n",
       "      <td>45</td>\n",
       "      <td>1712</td>\n",
       "      <td>631</td>\n",
       "      <td>1255</td>\n",
       "      <td>1781</td>\n",
       "    </tr>\n",
       "    <tr>\n",
       "      <th>KevinDurant</th>\n",
       "      <td>4796880</td>\n",
       "      <td>82</td>\n",
       "      <td>3239</td>\n",
       "      <td>661</td>\n",
       "      <td>1390</td>\n",
       "      <td>1871</td>\n",
       "    </tr>\n",
       "    <tr>\n",
       "      <th>DerrickRose</th>\n",
       "      <td>5184480</td>\n",
       "      <td>78</td>\n",
       "      <td>2871</td>\n",
       "      <td>574</td>\n",
       "      <td>1208</td>\n",
       "      <td>1361</td>\n",
       "    </tr>\n",
       "    <tr>\n",
       "      <th>DwayneWade</th>\n",
       "      <td>15779912</td>\n",
       "      <td>77</td>\n",
       "      <td>2792</td>\n",
       "      <td>854</td>\n",
       "      <td>1739</td>\n",
       "      <td>2386</td>\n",
       "    </tr>\n",
       "  </tbody>\n",
       "</table>\n",
       "</div>"
      ],
      "text/plain": [
       "                Salaries2011  Games2011  Minutes2011  Goals2011  Attempts2011  \\\n",
       "KobeBryant          23034375         73         2835        800          1712   \n",
       "JoeJohnson          14976754         76         2886        620          1420   \n",
       "LeBronJames         15779912         76         3054        789          1613   \n",
       "CarmeloAnthony      15779912         69         2966        535          1207   \n",
       "DwightHoward        15202590         82         2634        560           979   \n",
       "ChrisBosh           15779912         70         2526        615          1263   \n",
       "ChrisPaul           13520500         45         1712        631          1255   \n",
       "KevinDurant          4796880         82         3239        661          1390   \n",
       "DerrickRose          5184480         78         2871        574          1208   \n",
       "DwayneWade          15779912         77         2792        854          1739   \n",
       "\n",
       "                Points2011  \n",
       "KobeBryant            2201  \n",
       "JoeJohnson            1688  \n",
       "LeBronJames           2304  \n",
       "CarmeloAnthony        1504  \n",
       "DwightHoward          1624  \n",
       "ChrisBosh             1746  \n",
       "ChrisPaul             1781  \n",
       "KevinDurant           1871  \n",
       "DerrickRose           1361  \n",
       "DwayneWade            2386  "
      ]
     },
     "execution_count": 75,
     "metadata": {},
     "output_type": "execute_result"
    }
   ],
   "source": [
    "Players2011=pd.DataFrame({'Salaries2011': Salaries2011, \n",
    "                      'Games2011':Games2011, \n",
    "                      'Minutes2011':Minutes2011, \n",
    "                      'Goals2011':Goals2011, \n",
    "                      'Attempts2011':Attempts2011, \n",
    "                      'Points2011':Points2011})\n",
    "Players2011"
   ]
  },
  {
   "cell_type": "code",
   "execution_count": 112,
   "id": "b58d71f5",
   "metadata": {},
   "outputs": [
    {
     "name": "stdout",
     "output_type": "stream",
     "text": [
      "<class 'dict'>\n"
     ]
    },
    {
     "data": {
      "text/plain": [
       "KobeBryant        27849149\n",
       "JoeJohnson        19752645\n",
       "LeBronJames       17545000\n",
       "CarmeloAnthony    19450000\n",
       "DwightHoward      19536360\n",
       "ChrisBosh         17545000\n",
       "ChrisPaul         17779458\n",
       "KevinDurant       16669630\n",
       "DerrickRose       16402500\n",
       "DwayneWade        17182000\n",
       "dtype: int64"
      ]
     },
     "execution_count": 112,
     "metadata": {},
     "output_type": "execute_result"
    }
   ],
   "source": [
    "Salaries_dict2012={'KobeBryant':27849149,\n",
    "              'JoeJohnson':19752645,\n",
    "              'LeBronJames':17545000,\n",
    "              'CarmeloAnthony':19450000,\n",
    "              'DwightHoward':19536360,\n",
    "              'ChrisBosh':17545000,\n",
    "              'ChrisPaul':17779458,\n",
    "              'KevinDurant':16669630,\n",
    "              'DerrickRose':16402500,\n",
    "              'DwayneWade':17182000}\n",
    "print(type(Salaries_dict2012))\n",
    "Salaries2012=pd.Series(Salaries_dict2012)\n",
    "Salaries2012"
   ]
  },
  {
   "cell_type": "code",
   "execution_count": 113,
   "id": "5f28e7bd",
   "metadata": {},
   "outputs": [
    {
     "name": "stdout",
     "output_type": "stream",
     "text": [
      "<class 'dict'>\n"
     ]
    },
    {
     "data": {
      "text/plain": [
       "KobeBryant        78\n",
       "JoeJohnson        72\n",
       "LeBronJames       76\n",
       "CarmeloAnthony    67\n",
       "DwightHoward      76\n",
       "ChrisBosh         74\n",
       "ChrisPaul         70\n",
       "KevinDurant       81\n",
       "DerrickRose        0\n",
       "DwayneWade        69\n",
       "dtype: int64"
      ]
     },
     "execution_count": 113,
     "metadata": {},
     "output_type": "execute_result"
    }
   ],
   "source": [
    "Games_dict2012={'KobeBryant': 78,\n",
    "              'JoeJohnson':72,\n",
    "              'LeBronJames':76,\n",
    "              'CarmeloAnthony':67,\n",
    "              'DwightHoward':76,\n",
    "              'ChrisBosh':74,\n",
    "              'ChrisPaul':70,\n",
    "              'KevinDurant':81,\n",
    "              'DerrickRose':0,\n",
    "              'DwayneWade':69}\n",
    "print(type(Games_dict2012))\n",
    "Games2012=pd.Series(Games_dict2012)\n",
    "Games2012"
   ]
  },
  {
   "cell_type": "code",
   "execution_count": 114,
   "id": "596a4ef9",
   "metadata": {},
   "outputs": [
    {
     "name": "stdout",
     "output_type": "stream",
     "text": [
      "<class 'dict'>\n"
     ]
    },
    {
     "data": {
      "text/plain": [
       "KobeBryant        3013\n",
       "JoeJohnson        2642\n",
       "LeBronJames       2877\n",
       "CarmeloAnthony    2482\n",
       "DwightHoward      2722\n",
       "ChrisBosh         2454\n",
       "ChrisPaul         2335\n",
       "KevinDurant       3119\n",
       "DerrickRose          0\n",
       "DwayneWade        2391\n",
       "dtype: int64"
      ]
     },
     "execution_count": 114,
     "metadata": {},
     "output_type": "execute_result"
    }
   ],
   "source": [
    "Minutes_dict2012={'KobeBryant': 3013,\n",
    "              'JoeJohnson':2642,\n",
    "              'LeBronJames':2877,\n",
    "              'CarmeloAnthony':2482,\n",
    "              'DwightHoward':2722,\n",
    "              'ChrisBosh':2454,\n",
    "              'ChrisPaul':2335,\n",
    "              'KevinDurant':3119,\n",
    "              'DerrickRose':0,\n",
    "              'DwayneWade':2391}\n",
    "print(type(Minutes_dict2012))\n",
    "Minutes2012=pd.Series(Minutes_dict2012)\n",
    "Minutes2012"
   ]
  },
  {
   "cell_type": "code",
   "execution_count": 115,
   "id": "f4dd463f",
   "metadata": {},
   "outputs": [
    {
     "name": "stdout",
     "output_type": "stream",
     "text": [
      "<class 'dict'>\n"
     ]
    },
    {
     "data": {
      "text/plain": [
       "KobeBryant        738\n",
       "JoeJohnson        445\n",
       "LeBronJames       765\n",
       "CarmeloAnthony    669\n",
       "DwightHoward      470\n",
       "ChrisBosh         485\n",
       "ChrisPaul         412\n",
       "KevinDurant       731\n",
       "DerrickRose         0\n",
       "DwayneWade        569\n",
       "dtype: int64"
      ]
     },
     "execution_count": 115,
     "metadata": {},
     "output_type": "execute_result"
    }
   ],
   "source": [
    "Goals_dict2012={'KobeBryant': 738,\n",
    "              'JoeJohnson':445,\n",
    "              'LeBronJames':765,\n",
    "              'CarmeloAnthony':669,\n",
    "              'DwightHoward':470,\n",
    "              'ChrisBosh':485,\n",
    "              'ChrisPaul':412,\n",
    "              'KevinDurant':731,\n",
    "              'DerrickRose':0,\n",
    "              'DwayneWade':569}\n",
    "print(type(Goals_dict2012))\n",
    "Goals2012=pd.Series(Goals_dict2012)\n",
    "Goals2012"
   ]
  },
  {
   "cell_type": "code",
   "execution_count": 116,
   "id": "d640bcaa",
   "metadata": {},
   "outputs": [
    {
     "name": "stdout",
     "output_type": "stream",
     "text": [
      "<class 'dict'>\n"
     ]
    },
    {
     "data": {
      "text/plain": [
       "KobeBryant        1595\n",
       "JoeJohnson        1052\n",
       "LeBronJames       1354\n",
       "CarmeloAnthony    1489\n",
       "DwightHoward       813\n",
       "ChrisBosh          907\n",
       "ChrisPaul          856\n",
       "KevinDurant       1433\n",
       "DerrickRose          0\n",
       "DwayneWade        1093\n",
       "dtype: int64"
      ]
     },
     "execution_count": 116,
     "metadata": {},
     "output_type": "execute_result"
    }
   ],
   "source": [
    "Attempts_dict2012={'KobeBryant': 1595,\n",
    "              'JoeJohnson':1052,\n",
    "              'LeBronJames':1354,\n",
    "              'CarmeloAnthony':1489,\n",
    "              'DwightHoward':813,\n",
    "              'ChrisBosh':907,\n",
    "              'ChrisPaul':856,\n",
    "              'KevinDurant':1433,\n",
    "              'DerrickRose':0,\n",
    "              'DwayneWade':1093}\n",
    "print(type(Attempts_dict2012))\n",
    "Attempts2012=pd.Series(Attempts_dict2012)\n",
    "Attempts2012"
   ]
  },
  {
   "cell_type": "code",
   "execution_count": 117,
   "id": "2a49525e",
   "metadata": {},
   "outputs": [
    {
     "name": "stdout",
     "output_type": "stream",
     "text": [
      "<class 'dict'>\n"
     ]
    },
    {
     "data": {
      "text/plain": [
       "KobeBryant        2133\n",
       "JoeJohnson        1170\n",
       "LeBronJames       2036\n",
       "CarmeloAnthony    1920\n",
       "DwightHoward      1296\n",
       "ChrisBosh         1232\n",
       "ChrisPaul         1186\n",
       "KevinDurant       2280\n",
       "DerrickRose          0\n",
       "DwayneWade        1463\n",
       "dtype: int64"
      ]
     },
     "execution_count": 117,
     "metadata": {},
     "output_type": "execute_result"
    }
   ],
   "source": [
    "Points_dict2012={'KobeBryant': 2133,\n",
    "              'JoeJohnson':1170,\n",
    "              'LeBronJames':2036,\n",
    "              'CarmeloAnthony':1920,\n",
    "              'DwightHoward':1296,\n",
    "              'ChrisBosh':1232,\n",
    "              'ChrisPaul':1186,\n",
    "              'KevinDurant':2280,\n",
    "              'DerrickRose':0,\n",
    "              'DwayneWade':1463}\n",
    "print(type(Points_dict2012))\n",
    "Points2012=pd.Series(Points_dict2012)\n",
    "Points2012"
   ]
  },
  {
   "cell_type": "code",
   "execution_count": 118,
   "id": "161dea23",
   "metadata": {},
   "outputs": [
    {
     "data": {
      "text/html": [
       "<div>\n",
       "<style scoped>\n",
       "    .dataframe tbody tr th:only-of-type {\n",
       "        vertical-align: middle;\n",
       "    }\n",
       "\n",
       "    .dataframe tbody tr th {\n",
       "        vertical-align: top;\n",
       "    }\n",
       "\n",
       "    .dataframe thead th {\n",
       "        text-align: right;\n",
       "    }\n",
       "</style>\n",
       "<table border=\"1\" class=\"dataframe\">\n",
       "  <thead>\n",
       "    <tr style=\"text-align: right;\">\n",
       "      <th></th>\n",
       "      <th>Salaries2012</th>\n",
       "      <th>Games2012</th>\n",
       "      <th>Minutes2012</th>\n",
       "      <th>Goals2012</th>\n",
       "      <th>Attempts2012</th>\n",
       "      <th>Points2012</th>\n",
       "    </tr>\n",
       "  </thead>\n",
       "  <tbody>\n",
       "    <tr>\n",
       "      <th>KobeBryant</th>\n",
       "      <td>27849149</td>\n",
       "      <td>78</td>\n",
       "      <td>3013</td>\n",
       "      <td>738</td>\n",
       "      <td>1595</td>\n",
       "      <td>2133</td>\n",
       "    </tr>\n",
       "    <tr>\n",
       "      <th>JoeJohnson</th>\n",
       "      <td>19752645</td>\n",
       "      <td>72</td>\n",
       "      <td>2642</td>\n",
       "      <td>445</td>\n",
       "      <td>1052</td>\n",
       "      <td>1170</td>\n",
       "    </tr>\n",
       "    <tr>\n",
       "      <th>LeBronJames</th>\n",
       "      <td>17545000</td>\n",
       "      <td>76</td>\n",
       "      <td>2877</td>\n",
       "      <td>765</td>\n",
       "      <td>1354</td>\n",
       "      <td>2036</td>\n",
       "    </tr>\n",
       "    <tr>\n",
       "      <th>CarmeloAnthony</th>\n",
       "      <td>19450000</td>\n",
       "      <td>67</td>\n",
       "      <td>2482</td>\n",
       "      <td>669</td>\n",
       "      <td>1489</td>\n",
       "      <td>1920</td>\n",
       "    </tr>\n",
       "    <tr>\n",
       "      <th>DwightHoward</th>\n",
       "      <td>19536360</td>\n",
       "      <td>76</td>\n",
       "      <td>2722</td>\n",
       "      <td>470</td>\n",
       "      <td>813</td>\n",
       "      <td>1296</td>\n",
       "    </tr>\n",
       "    <tr>\n",
       "      <th>ChrisBosh</th>\n",
       "      <td>17545000</td>\n",
       "      <td>74</td>\n",
       "      <td>2454</td>\n",
       "      <td>485</td>\n",
       "      <td>907</td>\n",
       "      <td>1232</td>\n",
       "    </tr>\n",
       "    <tr>\n",
       "      <th>ChrisPaul</th>\n",
       "      <td>17779458</td>\n",
       "      <td>70</td>\n",
       "      <td>2335</td>\n",
       "      <td>412</td>\n",
       "      <td>856</td>\n",
       "      <td>1186</td>\n",
       "    </tr>\n",
       "    <tr>\n",
       "      <th>KevinDurant</th>\n",
       "      <td>16669630</td>\n",
       "      <td>81</td>\n",
       "      <td>3119</td>\n",
       "      <td>731</td>\n",
       "      <td>1433</td>\n",
       "      <td>2280</td>\n",
       "    </tr>\n",
       "    <tr>\n",
       "      <th>DerrickRose</th>\n",
       "      <td>16402500</td>\n",
       "      <td>0</td>\n",
       "      <td>0</td>\n",
       "      <td>0</td>\n",
       "      <td>0</td>\n",
       "      <td>0</td>\n",
       "    </tr>\n",
       "    <tr>\n",
       "      <th>DwayneWade</th>\n",
       "      <td>17182000</td>\n",
       "      <td>69</td>\n",
       "      <td>2391</td>\n",
       "      <td>569</td>\n",
       "      <td>1093</td>\n",
       "      <td>1463</td>\n",
       "    </tr>\n",
       "  </tbody>\n",
       "</table>\n",
       "</div>"
      ],
      "text/plain": [
       "                Salaries2012  Games2012  Minutes2012  Goals2012  Attempts2012  \\\n",
       "KobeBryant          27849149         78         3013        738          1595   \n",
       "JoeJohnson          19752645         72         2642        445          1052   \n",
       "LeBronJames         17545000         76         2877        765          1354   \n",
       "CarmeloAnthony      19450000         67         2482        669          1489   \n",
       "DwightHoward        19536360         76         2722        470           813   \n",
       "ChrisBosh           17545000         74         2454        485           907   \n",
       "ChrisPaul           17779458         70         2335        412           856   \n",
       "KevinDurant         16669630         81         3119        731          1433   \n",
       "DerrickRose         16402500          0            0          0             0   \n",
       "DwayneWade          17182000         69         2391        569          1093   \n",
       "\n",
       "                Points2012  \n",
       "KobeBryant            2133  \n",
       "JoeJohnson            1170  \n",
       "LeBronJames           2036  \n",
       "CarmeloAnthony        1920  \n",
       "DwightHoward          1296  \n",
       "ChrisBosh             1232  \n",
       "ChrisPaul             1186  \n",
       "KevinDurant           2280  \n",
       "DerrickRose              0  \n",
       "DwayneWade            1463  "
      ]
     },
     "execution_count": 118,
     "metadata": {},
     "output_type": "execute_result"
    }
   ],
   "source": [
    "Players2012=pd.DataFrame({'Salaries2012': Salaries2012, \n",
    "                      'Games2012':Games2012, \n",
    "                      'Minutes2012':Minutes2012, \n",
    "                      'Goals2012':Goals2012, \n",
    "                      'Attempts2012':Attempts2012, \n",
    "                      'Points2012':Points2012})\n",
    "Players2012"
   ]
  },
  {
   "cell_type": "code",
   "execution_count": 105,
   "id": "be38d36d",
   "metadata": {},
   "outputs": [
    {
     "name": "stdout",
     "output_type": "stream",
     "text": [
      "<class 'dict'>\n"
     ]
    },
    {
     "data": {
      "text/plain": [
       "KobeBryant        30453805\n",
       "JoeJohnson        21466718\n",
       "LeBronJames       19067500\n",
       "CarmeloAnthony    22407474\n",
       "DwightHoward      20513178\n",
       "ChrisBosh         19067500\n",
       "ChrisPaul         18668431\n",
       "KevinDurant       17832627\n",
       "DerrickRose       17632688\n",
       "DwayneWade        18673000\n",
       "dtype: int64"
      ]
     },
     "execution_count": 105,
     "metadata": {},
     "output_type": "execute_result"
    }
   ],
   "source": [
    "Salaries_dict2013={'KobeBryant':30453805,\n",
    "              'JoeJohnson':21466718,\n",
    "              'LeBronJames':19067500,\n",
    "              'CarmeloAnthony':22407474,\n",
    "              'DwightHoward':20513178,\n",
    "              'ChrisBosh':19067500,\n",
    "              'ChrisPaul':18668431,\n",
    "              'KevinDurant':17832627,\n",
    "              'DerrickRose':17632688,\n",
    "              'DwayneWade':18673000}\n",
    "print(type(Salaries_dict2013))\n",
    "Salaries2013=pd.Series(Salaries_dict2013)\n",
    "Salaries2013"
   ]
  },
  {
   "cell_type": "code",
   "execution_count": 106,
   "id": "82a03673",
   "metadata": {},
   "outputs": [
    {
     "name": "stdout",
     "output_type": "stream",
     "text": [
      "<class 'dict'>\n"
     ]
    },
    {
     "data": {
      "text/plain": [
       "KobeBryant         6\n",
       "JoeJohnson        79\n",
       "LeBronJames       77\n",
       "CarmeloAnthony    77\n",
       "DwightHoward      71\n",
       "ChrisBosh         79\n",
       "ChrisPaul         62\n",
       "KevinDurant       81\n",
       "DerrickRose       10\n",
       "DwayneWade        54\n",
       "dtype: int64"
      ]
     },
     "execution_count": 106,
     "metadata": {},
     "output_type": "execute_result"
    }
   ],
   "source": [
    "Games_dict2013={'KobeBryant': 6,\n",
    "              'JoeJohnson':79,\n",
    "              'LeBronJames':77,\n",
    "              'CarmeloAnthony':77,\n",
    "              'DwightHoward':71,\n",
    "              'ChrisBosh':79,\n",
    "              'ChrisPaul':62,\n",
    "              'KevinDurant':81,\n",
    "              'DerrickRose':10,\n",
    "              'DwayneWade':54}\n",
    "print(type(Games_dict2013))\n",
    "Games2013=pd.Series(Games_dict2013)\n",
    "Games2013"
   ]
  },
  {
   "cell_type": "code",
   "execution_count": 107,
   "id": "17a4bdb9",
   "metadata": {},
   "outputs": [
    {
     "name": "stdout",
     "output_type": "stream",
     "text": [
      "<class 'dict'>\n"
     ]
    },
    {
     "data": {
      "text/plain": [
       "KobeBryant         177\n",
       "JoeJohnson        2575\n",
       "LeBronJames       2902\n",
       "CarmeloAnthony    2982\n",
       "DwightHoward      2396\n",
       "ChrisBosh         2531\n",
       "ChrisPaul         2171\n",
       "KevinDurant       3122\n",
       "DerrickRose        311\n",
       "DwayneWade        1775\n",
       "dtype: int64"
      ]
     },
     "execution_count": 107,
     "metadata": {},
     "output_type": "execute_result"
    }
   ],
   "source": [
    "Minutes_dict2013={'KobeBryant': 177,\n",
    "              'JoeJohnson':2575,\n",
    "              'LeBronJames':2902,\n",
    "              'CarmeloAnthony':2982,\n",
    "              'DwightHoward':2396,\n",
    "              'ChrisBosh':2531,\n",
    "              'ChrisPaul':2171,\n",
    "              'KevinDurant':3122,\n",
    "              'DerrickRose':311,\n",
    "              'DwayneWade':1775}\n",
    "print(type(Minutes_dict2013))\n",
    "Minutes2013=pd.Series(Minutes_dict2013)\n",
    "Minutes2013"
   ]
  },
  {
   "cell_type": "code",
   "execution_count": 108,
   "id": "979440f2",
   "metadata": {},
   "outputs": [
    {
     "name": "stdout",
     "output_type": "stream",
     "text": [
      "<class 'dict'>\n"
     ]
    },
    {
     "data": {
      "text/plain": [
       "KobeBryant         31\n",
       "JoeJohnson        462\n",
       "LeBronJames       767\n",
       "CarmeloAnthony    743\n",
       "DwightHoward      473\n",
       "ChrisBosh         492\n",
       "ChrisPaul         406\n",
       "KevinDurant       849\n",
       "DerrickRose        58\n",
       "DwayneWade        415\n",
       "dtype: int64"
      ]
     },
     "execution_count": 108,
     "metadata": {},
     "output_type": "execute_result"
    }
   ],
   "source": [
    "Goals_dict2013={'KobeBryant': 31,\n",
    "              'JoeJohnson':462,\n",
    "              'LeBronJames':767,\n",
    "              'CarmeloAnthony':743,\n",
    "              'DwightHoward':473,\n",
    "              'ChrisBosh':492,\n",
    "              'ChrisPaul':406,\n",
    "              'KevinDurant':849,\n",
    "              'DerrickRose':58,\n",
    "              'DwayneWade':415}\n",
    "print(type(Goals_dict2013))\n",
    "Goals2013=pd.Series(Goals_dict2013)\n",
    "Goals2013"
   ]
  },
  {
   "cell_type": "code",
   "execution_count": 109,
   "id": "b15171ef",
   "metadata": {},
   "outputs": [
    {
     "name": "stdout",
     "output_type": "stream",
     "text": [
      "<class 'dict'>\n"
     ]
    },
    {
     "data": {
      "text/plain": [
       "KobeBryant          73\n",
       "JoeJohnson        1018\n",
       "LeBronJames       1353\n",
       "CarmeloAnthony    1643\n",
       "DwightHoward       800\n",
       "ChrisBosh          953\n",
       "ChrisPaul          870\n",
       "KevinDurant       1688\n",
       "DerrickRose        164\n",
       "DwayneWade         761\n",
       "dtype: int64"
      ]
     },
     "execution_count": 109,
     "metadata": {},
     "output_type": "execute_result"
    }
   ],
   "source": [
    "Attempts_dict2013={'KobeBryant': 73,\n",
    "              'JoeJohnson':1018,\n",
    "              'LeBronJames':1353,\n",
    "              'CarmeloAnthony':1643,\n",
    "              'DwightHoward':800,\n",
    "              'ChrisBosh':953,\n",
    "              'ChrisPaul':870,\n",
    "              'KevinDurant':1688,\n",
    "              'DerrickRose':164,\n",
    "              'DwayneWade':761}\n",
    "print(type(Attempts_dict2013))\n",
    "Attempts2013=pd.Series(Attempts_dict2013)\n",
    "Attempts2013"
   ]
  },
  {
   "cell_type": "code",
   "execution_count": 110,
   "id": "6688627a",
   "metadata": {},
   "outputs": [
    {
     "name": "stdout",
     "output_type": "stream",
     "text": [
      "<class 'dict'>\n"
     ]
    },
    {
     "data": {
      "text/plain": [
       "KobeBryant          83\n",
       "JoeJohnson        1245\n",
       "LeBronJames       2089\n",
       "CarmeloAnthony    2112\n",
       "DwightHoward      1297\n",
       "ChrisBosh         1281\n",
       "ChrisPaul         1185\n",
       "KevinDurant       2593\n",
       "DerrickRose        159\n",
       "DwayneWade        1028\n",
       "dtype: int64"
      ]
     },
     "execution_count": 110,
     "metadata": {},
     "output_type": "execute_result"
    }
   ],
   "source": [
    "Points_dict2013={'KobeBryant': 83,\n",
    "              'JoeJohnson':1245,\n",
    "              'LeBronJames':2089,\n",
    "              'CarmeloAnthony':2112,\n",
    "              'DwightHoward':1297,\n",
    "              'ChrisBosh':1281,\n",
    "              'ChrisPaul':1185,\n",
    "              'KevinDurant':2593,\n",
    "              'DerrickRose':159,\n",
    "              'DwayneWade':1028}\n",
    "print(type(Points_dict2013))\n",
    "Points2013=pd.Series(Points_dict2013)\n",
    "Points2013"
   ]
  },
  {
   "cell_type": "code",
   "execution_count": 111,
   "id": "9d82199e",
   "metadata": {},
   "outputs": [
    {
     "data": {
      "text/html": [
       "<div>\n",
       "<style scoped>\n",
       "    .dataframe tbody tr th:only-of-type {\n",
       "        vertical-align: middle;\n",
       "    }\n",
       "\n",
       "    .dataframe tbody tr th {\n",
       "        vertical-align: top;\n",
       "    }\n",
       "\n",
       "    .dataframe thead th {\n",
       "        text-align: right;\n",
       "    }\n",
       "</style>\n",
       "<table border=\"1\" class=\"dataframe\">\n",
       "  <thead>\n",
       "    <tr style=\"text-align: right;\">\n",
       "      <th></th>\n",
       "      <th>Salaries2013</th>\n",
       "      <th>Games2013</th>\n",
       "      <th>Minutes2013</th>\n",
       "      <th>Goals2013</th>\n",
       "      <th>Attempts2013</th>\n",
       "      <th>Points2013</th>\n",
       "    </tr>\n",
       "  </thead>\n",
       "  <tbody>\n",
       "    <tr>\n",
       "      <th>KobeBryant</th>\n",
       "      <td>30453805</td>\n",
       "      <td>6</td>\n",
       "      <td>177</td>\n",
       "      <td>31</td>\n",
       "      <td>73</td>\n",
       "      <td>83</td>\n",
       "    </tr>\n",
       "    <tr>\n",
       "      <th>JoeJohnson</th>\n",
       "      <td>21466718</td>\n",
       "      <td>79</td>\n",
       "      <td>2575</td>\n",
       "      <td>462</td>\n",
       "      <td>1018</td>\n",
       "      <td>1245</td>\n",
       "    </tr>\n",
       "    <tr>\n",
       "      <th>LeBronJames</th>\n",
       "      <td>19067500</td>\n",
       "      <td>77</td>\n",
       "      <td>2902</td>\n",
       "      <td>767</td>\n",
       "      <td>1353</td>\n",
       "      <td>2089</td>\n",
       "    </tr>\n",
       "    <tr>\n",
       "      <th>CarmeloAnthony</th>\n",
       "      <td>22407474</td>\n",
       "      <td>77</td>\n",
       "      <td>2982</td>\n",
       "      <td>743</td>\n",
       "      <td>1643</td>\n",
       "      <td>2112</td>\n",
       "    </tr>\n",
       "    <tr>\n",
       "      <th>DwightHoward</th>\n",
       "      <td>20513178</td>\n",
       "      <td>71</td>\n",
       "      <td>2396</td>\n",
       "      <td>473</td>\n",
       "      <td>800</td>\n",
       "      <td>1297</td>\n",
       "    </tr>\n",
       "    <tr>\n",
       "      <th>ChrisBosh</th>\n",
       "      <td>19067500</td>\n",
       "      <td>79</td>\n",
       "      <td>2531</td>\n",
       "      <td>492</td>\n",
       "      <td>953</td>\n",
       "      <td>1281</td>\n",
       "    </tr>\n",
       "    <tr>\n",
       "      <th>ChrisPaul</th>\n",
       "      <td>18668431</td>\n",
       "      <td>62</td>\n",
       "      <td>2171</td>\n",
       "      <td>406</td>\n",
       "      <td>870</td>\n",
       "      <td>1185</td>\n",
       "    </tr>\n",
       "    <tr>\n",
       "      <th>KevinDurant</th>\n",
       "      <td>17832627</td>\n",
       "      <td>81</td>\n",
       "      <td>3122</td>\n",
       "      <td>849</td>\n",
       "      <td>1688</td>\n",
       "      <td>2593</td>\n",
       "    </tr>\n",
       "    <tr>\n",
       "      <th>DerrickRose</th>\n",
       "      <td>17632688</td>\n",
       "      <td>10</td>\n",
       "      <td>311</td>\n",
       "      <td>58</td>\n",
       "      <td>164</td>\n",
       "      <td>159</td>\n",
       "    </tr>\n",
       "    <tr>\n",
       "      <th>DwayneWade</th>\n",
       "      <td>18673000</td>\n",
       "      <td>54</td>\n",
       "      <td>1775</td>\n",
       "      <td>415</td>\n",
       "      <td>761</td>\n",
       "      <td>1028</td>\n",
       "    </tr>\n",
       "  </tbody>\n",
       "</table>\n",
       "</div>"
      ],
      "text/plain": [
       "                Salaries2013  Games2013  Minutes2013  Goals2013  Attempts2013  \\\n",
       "KobeBryant          30453805          6          177         31            73   \n",
       "JoeJohnson          21466718         79         2575        462          1018   \n",
       "LeBronJames         19067500         77         2902        767          1353   \n",
       "CarmeloAnthony      22407474         77         2982        743          1643   \n",
       "DwightHoward        20513178         71         2396        473           800   \n",
       "ChrisBosh           19067500         79         2531        492           953   \n",
       "ChrisPaul           18668431         62         2171        406           870   \n",
       "KevinDurant         17832627         81         3122        849          1688   \n",
       "DerrickRose         17632688         10          311         58           164   \n",
       "DwayneWade          18673000         54         1775        415           761   \n",
       "\n",
       "                Points2013  \n",
       "KobeBryant              83  \n",
       "JoeJohnson            1245  \n",
       "LeBronJames           2089  \n",
       "CarmeloAnthony        2112  \n",
       "DwightHoward          1297  \n",
       "ChrisBosh             1281  \n",
       "ChrisPaul             1185  \n",
       "KevinDurant           2593  \n",
       "DerrickRose            159  \n",
       "DwayneWade            1028  "
      ]
     },
     "execution_count": 111,
     "metadata": {},
     "output_type": "execute_result"
    }
   ],
   "source": [
    "Players2013=pd.DataFrame({'Salaries2013': Salaries2013, \n",
    "                      'Games2013':Games2013, \n",
    "                      'Minutes2013':Minutes2013, \n",
    "                      'Goals2013':Goals2013, \n",
    "                      'Attempts2013':Attempts2013, \n",
    "                      'Points2013':Points2013})\n",
    "Players2013"
   ]
  },
  {
   "cell_type": "code",
   "execution_count": 98,
   "id": "85017c57",
   "metadata": {},
   "outputs": [
    {
     "name": "stdout",
     "output_type": "stream",
     "text": [
      "<class 'dict'>\n"
     ]
    },
    {
     "data": {
      "text/plain": [
       "KobeBryant        23500000\n",
       "JoeJohnson        23180790\n",
       "LeBronJames       20644400\n",
       "CarmeloAnthony    22458000\n",
       "DwightHoward      21436271\n",
       "ChrisBosh         20644400\n",
       "ChrisPaul         20068563\n",
       "KevinDurant       18995624\n",
       "DerrickRose       18862875\n",
       "DwayneWade        15000000\n",
       "dtype: int64"
      ]
     },
     "execution_count": 98,
     "metadata": {},
     "output_type": "execute_result"
    }
   ],
   "source": [
    "Salaries_dict2014={'KobeBryant':23500000,\n",
    "              'JoeJohnson':23180790,\n",
    "              'LeBronJames':20644400,\n",
    "              'CarmeloAnthony':22458000,\n",
    "              'DwightHoward':21436271,\n",
    "              'ChrisBosh':20644400,\n",
    "              'ChrisPaul':20068563,\n",
    "              'KevinDurant':18995624,\n",
    "              'DerrickRose':18862875,\n",
    "              'DwayneWade':15000000}\n",
    "print(type(Salaries_dict2014))\n",
    "Salaries2014=pd.Series(Salaries_dict2014)\n",
    "Salaries2014"
   ]
  },
  {
   "cell_type": "code",
   "execution_count": 99,
   "id": "be9ffa39",
   "metadata": {},
   "outputs": [
    {
     "name": "stdout",
     "output_type": "stream",
     "text": [
      "<class 'dict'>\n"
     ]
    },
    {
     "data": {
      "text/plain": [
       "KobeBryant        35\n",
       "JoeJohnson        80\n",
       "LeBronJames       69\n",
       "CarmeloAnthony    40\n",
       "DwightHoward      41\n",
       "ChrisBosh         44\n",
       "ChrisPaul         82\n",
       "KevinDurant       27\n",
       "DerrickRose       51\n",
       "DwayneWade        62\n",
       "dtype: int64"
      ]
     },
     "execution_count": 99,
     "metadata": {},
     "output_type": "execute_result"
    }
   ],
   "source": [
    "Games_dict2014={'KobeBryant': 35,\n",
    "              'JoeJohnson':80,\n",
    "              'LeBronJames':69,\n",
    "              'CarmeloAnthony':40,\n",
    "              'DwightHoward':41,\n",
    "              'ChrisBosh':44,\n",
    "              'ChrisPaul':82,\n",
    "              'KevinDurant':27,\n",
    "              'DerrickRose':51,\n",
    "              'DwayneWade':62}\n",
    "print(type(Games_dict2014))\n",
    "Games2014=pd.Series(Games_dict2014)\n",
    "Games2014"
   ]
  },
  {
   "cell_type": "code",
   "execution_count": 100,
   "id": "b0347a4f",
   "metadata": {},
   "outputs": [
    {
     "name": "stdout",
     "output_type": "stream",
     "text": [
      "<class 'dict'>\n"
     ]
    },
    {
     "data": {
      "text/plain": [
       "KobeBryant        1207\n",
       "JoeJohnson        2791\n",
       "LeBronJames       2493\n",
       "CarmeloAnthony    1428\n",
       "DwightHoward      1223\n",
       "ChrisBosh         1556\n",
       "ChrisPaul         2857\n",
       "KevinDurant        913\n",
       "DerrickRose       1530\n",
       "DwayneWade        1971\n",
       "dtype: int64"
      ]
     },
     "execution_count": 100,
     "metadata": {},
     "output_type": "execute_result"
    }
   ],
   "source": [
    "Minutes_dict2014={'KobeBryant': 1207,\n",
    "              'JoeJohnson':2791,\n",
    "              'LeBronJames':2493,\n",
    "              'CarmeloAnthony':1428,\n",
    "              'DwightHoward':1223,\n",
    "              'ChrisBosh':1556,\n",
    "              'ChrisPaul':2857,\n",
    "              'KevinDurant':913,\n",
    "              'DerrickRose':1530,\n",
    "              'DwayneWade':1971}\n",
    "print(type(Minutes_dict2014))\n",
    "Minutes2014=pd.Series(Minutes_dict2014)\n",
    "Minutes2014"
   ]
  },
  {
   "cell_type": "code",
   "execution_count": 101,
   "id": "a5448783",
   "metadata": {},
   "outputs": [
    {
     "name": "stdout",
     "output_type": "stream",
     "text": [
      "<class 'dict'>\n"
     ]
    },
    {
     "data": {
      "text/plain": [
       "KobeBryant        266\n",
       "JoeJohnson        446\n",
       "LeBronJames       624\n",
       "CarmeloAnthony    358\n",
       "DwightHoward      251\n",
       "ChrisBosh         343\n",
       "ChrisPaul         568\n",
       "KevinDurant       238\n",
       "DerrickRose       338\n",
       "DwayneWade        509\n",
       "dtype: int64"
      ]
     },
     "execution_count": 101,
     "metadata": {},
     "output_type": "execute_result"
    }
   ],
   "source": [
    "Goals_dict2014={'KobeBryant': 266,\n",
    "              'JoeJohnson':446,\n",
    "              'LeBronJames':624,\n",
    "              'CarmeloAnthony':358,\n",
    "              'DwightHoward':251,\n",
    "              'ChrisBosh':343,\n",
    "              'ChrisPaul':568,\n",
    "              'KevinDurant':238,\n",
    "              'DerrickRose':338,\n",
    "              'DwayneWade':509}\n",
    "print(type(Goals_dict2014))\n",
    "Goals2014=pd.Series(Goals_dict2014)\n",
    "Goals2014"
   ]
  },
  {
   "cell_type": "code",
   "execution_count": 102,
   "id": "ffc567b1",
   "metadata": {},
   "outputs": [
    {
     "name": "stdout",
     "output_type": "stream",
     "text": [
      "<class 'dict'>\n"
     ]
    },
    {
     "data": {
      "text/plain": [
       "KobeBryant         713\n",
       "JoeJohnson        1025\n",
       "LeBronJames       1279\n",
       "CarmeloAnthony     806\n",
       "DwightHoward       423\n",
       "ChrisBosh          745\n",
       "ChrisPaul         1170\n",
       "KevinDurant        467\n",
       "DerrickRose        835\n",
       "DwayneWade        1084\n",
       "dtype: int64"
      ]
     },
     "execution_count": 102,
     "metadata": {},
     "output_type": "execute_result"
    }
   ],
   "source": [
    "Attempts_dict2014={'KobeBryant': 713,\n",
    "              'JoeJohnson':1025,\n",
    "              'LeBronJames':1279,\n",
    "              'CarmeloAnthony':806,\n",
    "              'DwightHoward':423,\n",
    "              'ChrisBosh':745,\n",
    "              'ChrisPaul':1170,\n",
    "              'KevinDurant':467,\n",
    "              'DerrickRose':835,\n",
    "              'DwayneWade':1084}\n",
    "print(type(Attempts_dict2014))\n",
    "Attempts2014=pd.Series(Attempts_dict2014)\n",
    "Attempts2014"
   ]
  },
  {
   "cell_type": "code",
   "execution_count": 103,
   "id": "de278e68",
   "metadata": {},
   "outputs": [
    {
     "name": "stdout",
     "output_type": "stream",
     "text": [
      "<class 'dict'>\n"
     ]
    },
    {
     "data": {
      "text/plain": [
       "KobeBryant         782\n",
       "JoeJohnson        1154\n",
       "LeBronJames       1743\n",
       "CarmeloAnthony     966\n",
       "DwightHoward       646\n",
       "ChrisBosh          928\n",
       "ChrisPaul         1564\n",
       "KevinDurant        686\n",
       "DerrickRose        904\n",
       "DwayneWade        1331\n",
       "dtype: int64"
      ]
     },
     "execution_count": 103,
     "metadata": {},
     "output_type": "execute_result"
    }
   ],
   "source": [
    "Points_dict2014={'KobeBryant': 782,\n",
    "              'JoeJohnson':1154,\n",
    "              'LeBronJames':1743,\n",
    "              'CarmeloAnthony':966,\n",
    "              'DwightHoward':646,\n",
    "              'ChrisBosh':928,\n",
    "              'ChrisPaul':1564,\n",
    "              'KevinDurant':686,\n",
    "              'DerrickRose':904,\n",
    "              'DwayneWade':1331}\n",
    "print(type(Points_dict2014))\n",
    "Points2014=pd.Series(Points_dict2014)\n",
    "Points2014"
   ]
  },
  {
   "cell_type": "code",
   "execution_count": 104,
   "id": "a0008129",
   "metadata": {},
   "outputs": [
    {
     "data": {
      "text/html": [
       "<div>\n",
       "<style scoped>\n",
       "    .dataframe tbody tr th:only-of-type {\n",
       "        vertical-align: middle;\n",
       "    }\n",
       "\n",
       "    .dataframe tbody tr th {\n",
       "        vertical-align: top;\n",
       "    }\n",
       "\n",
       "    .dataframe thead th {\n",
       "        text-align: right;\n",
       "    }\n",
       "</style>\n",
       "<table border=\"1\" class=\"dataframe\">\n",
       "  <thead>\n",
       "    <tr style=\"text-align: right;\">\n",
       "      <th></th>\n",
       "      <th>Salaries2014</th>\n",
       "      <th>Games2014</th>\n",
       "      <th>Minutes2014</th>\n",
       "      <th>Goals2014</th>\n",
       "      <th>Attempts2014</th>\n",
       "      <th>Points2014</th>\n",
       "    </tr>\n",
       "  </thead>\n",
       "  <tbody>\n",
       "    <tr>\n",
       "      <th>KobeBryant</th>\n",
       "      <td>23500000</td>\n",
       "      <td>35</td>\n",
       "      <td>1207</td>\n",
       "      <td>266</td>\n",
       "      <td>713</td>\n",
       "      <td>782</td>\n",
       "    </tr>\n",
       "    <tr>\n",
       "      <th>JoeJohnson</th>\n",
       "      <td>23180790</td>\n",
       "      <td>80</td>\n",
       "      <td>2791</td>\n",
       "      <td>446</td>\n",
       "      <td>1025</td>\n",
       "      <td>1154</td>\n",
       "    </tr>\n",
       "    <tr>\n",
       "      <th>LeBronJames</th>\n",
       "      <td>20644400</td>\n",
       "      <td>69</td>\n",
       "      <td>2493</td>\n",
       "      <td>624</td>\n",
       "      <td>1279</td>\n",
       "      <td>1743</td>\n",
       "    </tr>\n",
       "    <tr>\n",
       "      <th>CarmeloAnthony</th>\n",
       "      <td>22458000</td>\n",
       "      <td>40</td>\n",
       "      <td>1428</td>\n",
       "      <td>358</td>\n",
       "      <td>806</td>\n",
       "      <td>966</td>\n",
       "    </tr>\n",
       "    <tr>\n",
       "      <th>DwightHoward</th>\n",
       "      <td>21436271</td>\n",
       "      <td>41</td>\n",
       "      <td>1223</td>\n",
       "      <td>251</td>\n",
       "      <td>423</td>\n",
       "      <td>646</td>\n",
       "    </tr>\n",
       "    <tr>\n",
       "      <th>ChrisBosh</th>\n",
       "      <td>20644400</td>\n",
       "      <td>44</td>\n",
       "      <td>1556</td>\n",
       "      <td>343</td>\n",
       "      <td>745</td>\n",
       "      <td>928</td>\n",
       "    </tr>\n",
       "    <tr>\n",
       "      <th>ChrisPaul</th>\n",
       "      <td>20068563</td>\n",
       "      <td>82</td>\n",
       "      <td>2857</td>\n",
       "      <td>568</td>\n",
       "      <td>1170</td>\n",
       "      <td>1564</td>\n",
       "    </tr>\n",
       "    <tr>\n",
       "      <th>KevinDurant</th>\n",
       "      <td>18995624</td>\n",
       "      <td>27</td>\n",
       "      <td>913</td>\n",
       "      <td>238</td>\n",
       "      <td>467</td>\n",
       "      <td>686</td>\n",
       "    </tr>\n",
       "    <tr>\n",
       "      <th>DerrickRose</th>\n",
       "      <td>18862875</td>\n",
       "      <td>51</td>\n",
       "      <td>1530</td>\n",
       "      <td>338</td>\n",
       "      <td>835</td>\n",
       "      <td>904</td>\n",
       "    </tr>\n",
       "    <tr>\n",
       "      <th>DwayneWade</th>\n",
       "      <td>15000000</td>\n",
       "      <td>62</td>\n",
       "      <td>1971</td>\n",
       "      <td>509</td>\n",
       "      <td>1084</td>\n",
       "      <td>1331</td>\n",
       "    </tr>\n",
       "  </tbody>\n",
       "</table>\n",
       "</div>"
      ],
      "text/plain": [
       "                Salaries2014  Games2014  Minutes2014  Goals2014  Attempts2014  \\\n",
       "KobeBryant          23500000         35         1207        266           713   \n",
       "JoeJohnson          23180790         80         2791        446          1025   \n",
       "LeBronJames         20644400         69         2493        624          1279   \n",
       "CarmeloAnthony      22458000         40         1428        358           806   \n",
       "DwightHoward        21436271         41         1223        251           423   \n",
       "ChrisBosh           20644400         44         1556        343           745   \n",
       "ChrisPaul           20068563         82         2857        568          1170   \n",
       "KevinDurant         18995624         27          913        238           467   \n",
       "DerrickRose         18862875         51         1530        338           835   \n",
       "DwayneWade          15000000         62         1971        509          1084   \n",
       "\n",
       "                Points2014  \n",
       "KobeBryant             782  \n",
       "JoeJohnson            1154  \n",
       "LeBronJames           1743  \n",
       "CarmeloAnthony         966  \n",
       "DwightHoward           646  \n",
       "ChrisBosh              928  \n",
       "ChrisPaul             1564  \n",
       "KevinDurant            686  \n",
       "DerrickRose            904  \n",
       "DwayneWade            1331  "
      ]
     },
     "execution_count": 104,
     "metadata": {},
     "output_type": "execute_result"
    }
   ],
   "source": [
    "Players2014=pd.DataFrame({'Salaries2014': Salaries2014, \n",
    "                      'Games2014':Games2014, \n",
    "                      'Minutes2014':Minutes2014, \n",
    "                      'Goals2014':Goals2014, \n",
    "                      'Attempts2014':Attempts2014, \n",
    "                      'Points2014':Points2014})\n",
    "Players2014"
   ]
  }
 ],
 "metadata": {
  "kernelspec": {
   "display_name": "Python 3 (ipykernel)",
   "language": "python",
   "name": "python3"
  },
  "language_info": {
   "codemirror_mode": {
    "name": "ipython",
    "version": 3
   },
   "file_extension": ".py",
   "mimetype": "text/x-python",
   "name": "python",
   "nbconvert_exporter": "python",
   "pygments_lexer": "ipython3",
   "version": "3.11.5"
  }
 },
 "nbformat": 4,
 "nbformat_minor": 5
}
