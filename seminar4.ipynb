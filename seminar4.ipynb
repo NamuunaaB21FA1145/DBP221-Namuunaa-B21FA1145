{
 "cells": [
  {
   "cell_type": "code",
   "execution_count": 27,
   "id": "ee1b55f6",
   "metadata": {},
   "outputs": [
    {
     "data": {
      "text/plain": [
       "array([ 50,  51,  52,  53,  54,  55,  56,  57,  58,  59,  60,  61,  62,\n",
       "        63,  64,  65,  66,  67,  68,  69,  70,  71,  72,  73,  74,  75,\n",
       "        76,  77,  78,  79,  80,  81,  82,  83,  84,  85,  86,  87,  88,\n",
       "        89,  90,  91,  92,  93,  94,  95,  96,  97,  98,  99, 100])"
      ]
     },
     "execution_count": 27,
     "metadata": {},
     "output_type": "execute_result"
    }
   ],
   "source": [
    "import numpy as np\n",
    "\n",
    "values = np.arange(50, 101)\n",
    "\n",
    "values"
   ]
  },
  {
   "cell_type": "code",
   "execution_count": 28,
   "id": "0dbaafc1",
   "metadata": {},
   "outputs": [
    {
     "data": {
      "text/plain": [
       "array([1., 1., 1., 1., 1., 1., 1., 1., 1., 1.])"
      ]
     },
     "execution_count": 28,
     "metadata": {},
     "output_type": "execute_result"
    }
   ],
   "source": [
    "neg = np.ones(10)\n",
    "neg"
   ]
  },
  {
   "cell_type": "code",
   "execution_count": 29,
   "id": "62c4f9ce",
   "metadata": {},
   "outputs": [
    {
     "data": {
      "text/plain": [
       "array([0., 0., 0., 0., 0., 0., 0., 0., 0., 0.])"
      ]
     },
     "execution_count": 29,
     "metadata": {},
     "output_type": "execute_result"
    }
   ],
   "source": [
    "teg = np.zeros(10)\n",
    "teg"
   ]
  },
  {
   "cell_type": "code",
   "execution_count": 30,
   "id": "634a9291",
   "metadata": {},
   "outputs": [
    {
     "data": {
      "text/plain": [
       "array([6, 6, 6, 6, 6, 6, 6, 6, 6, 6])"
      ]
     },
     "execution_count": 30,
     "metadata": {},
     "output_type": "execute_result"
    }
   ],
   "source": [
    "zurgaa = np.full(10, 6)\n",
    "zurgaa"
   ]
  },
  {
   "cell_type": "code",
   "execution_count": 31,
   "id": "722bdefe",
   "metadata": {},
   "outputs": [
    {
     "data": {
      "text/plain": [
       "array([[20, 21, 22, 23],\n",
       "       [24, 25, 26, 27],\n",
       "       [28, 29, 30, 31]])"
      ]
     },
     "execution_count": 31,
     "metadata": {},
     "output_type": "execute_result"
    }
   ],
   "source": [
    "values = np.arange(20, 32).reshape(3, 4)\n",
    "values"
   ]
  },
  {
   "cell_type": "code",
   "execution_count": 10,
   "id": "9fa0624b",
   "metadata": {},
   "outputs": [
    {
     "data": {
      "text/plain": [
       "array([[1., 0., 0.],\n",
       "       [0., 1., 0.],\n",
       "       [0., 0., 1.]])"
      ]
     },
     "execution_count": 10,
     "metadata": {},
     "output_type": "execute_result"
    }
   ],
   "source": [
    "diagonal_neg= np.eye(3)\n",
    "diagonal_neg"
   ]
  },
  {
   "cell_type": "code",
   "execution_count": 32,
   "id": "a0cb7eec",
   "metadata": {},
   "outputs": [
    {
     "data": {
      "text/plain": [
       "array([[1, 0, 0, 0, 0],\n",
       "       [0, 2, 0, 0, 0],\n",
       "       [0, 0, 3, 0, 0],\n",
       "       [0, 0, 0, 4, 0],\n",
       "       [0, 0, 0, 0, 5]])"
      ]
     },
     "execution_count": 32,
     "metadata": {},
     "output_type": "execute_result"
    }
   ],
   "source": [
    "diagonal_toonuud = np.diag(np.arange(1, 6))\n",
    "diagonal_toonuud "
   ]
  },
  {
   "cell_type": "code",
   "execution_count": 33,
   "id": "33aaa08e",
   "metadata": {},
   "outputs": [
    {
     "data": {
      "text/plain": [
       "('2 хэмжээст массив:',\n",
       " array([[ 1,  2,  3,  4],\n",
       "        [ 5,  6,  7,  8],\n",
       "        [ 9, 10, 11, 12]]))"
      ]
     },
     "execution_count": 33,
     "metadata": {},
     "output_type": "execute_result"
    }
   ],
   "source": [
    "array_2d = np.array([[1, 2, 3, 4],\n",
    "                     [5, 6, 7, 8],\n",
    "                     [9, 10, 11, 12]])\n",
    "total_sum = np.sum(array_2d)\n",
    "\n",
    "column_sums = np.sum(array_2d, axis=0)\n",
    "\n",
    "row_sums = np.sum(array_2d, axis=1)\n",
    "\n",
    "\"2 хэмжээст массив:\", array_2d"
   ]
  },
  {
   "cell_type": "code",
   "execution_count": 19,
   "id": "77a56089",
   "metadata": {},
   "outputs": [
    {
     "data": {
      "text/plain": [
       "('Нийт элементүүдийн нийлбэр:', 78)"
      ]
     },
     "execution_count": 19,
     "metadata": {},
     "output_type": "execute_result"
    }
   ],
   "source": [
    "\"Нийт элементүүдийн нийлбэр:\", total_sum"
   ]
  },
  {
   "cell_type": "code",
   "execution_count": null,
   "id": "3a47114a",
   "metadata": {},
   "outputs": [],
   "source": []
  },
  {
   "cell_type": "code",
   "execution_count": 16,
   "id": "079ebdec",
   "metadata": {},
   "outputs": [
    {
     "data": {
      "text/plain": [
       "('Багануудын нийлбэр:', array([15, 18, 21, 24]))"
      ]
     },
     "execution_count": 16,
     "metadata": {},
     "output_type": "execute_result"
    }
   ],
   "source": [
    "\"Багануудын нийлбэр:\", column_sums"
   ]
  },
  {
   "cell_type": "code",
   "execution_count": 17,
   "id": "071b92c5",
   "metadata": {},
   "outputs": [
    {
     "data": {
      "text/plain": [
       "('Мөрнүүдийн нийлбэр:', array([10, 26, 42]))"
      ]
     },
     "execution_count": 17,
     "metadata": {},
     "output_type": "execute_result"
    }
   ],
   "source": [
    "\"Мөрнүүдийн нийлбэр:\", row_sums"
   ]
  },
  {
   "cell_type": "code",
   "execution_count": null,
   "id": "3aa25fd0",
   "metadata": {},
   "outputs": [],
   "source": []
  },
  {
   "cell_type": "code",
   "execution_count": null,
   "id": "3715cb80",
   "metadata": {},
   "outputs": [],
   "source": []
  },
  {
   "cell_type": "code",
   "execution_count": null,
   "id": "28b3021e",
   "metadata": {},
   "outputs": [],
   "source": []
  },
  {
   "cell_type": "code",
   "execution_count": 26,
   "id": "f2028fbe",
   "metadata": {},
   "outputs": [
    {
     "name": "stdout",
     "output_type": "stream",
     "text": [
      "Тоглогчдын цалингийн багануудын нийлбэр:\n",
      "[ 50299635  57248613  98406186 120776420 139835227 144667149 166489555\n",
      " 189711742 205782921 235290923]\n",
      "Тоглогчдын нийт тоглолтын багануудын нийлбэр:\n",
      "[701 618 716 776 728 780 560 663 637 531]\n",
      "Тоглогчдын нийт гоолын багануудын нийлбэр:\n",
      "[298 299 291 293 274 290 260 233 249 226]\n"
     ]
    }
   ],
   "source": [
    "#Seasons\n",
    "Seasons = [\"2013\",\"2014\",\"2015\",\"2016\",\"2017\",\"2018\",\"2019\",\"2020\",\"2021\",\"2022\"]\n",
    "Sdict = {\"2013\":0,\"2014\":1,\"2015\":2,\"2016\":3,\"2017\":4,\"2018\":5,\"2019\":6,\"2020\":7,\"2021\":8,\"2022\":9}\n",
    "\n",
    "#Players\n",
    "Players = [\"LionelMessi\",\"ChristianoRonaldo\",\"Neymar\",\"LukaModric\",\"RobertLewandowski\",\"OlivierGiroud\",\"KarimBenzema\",\"KevinDeBruyne\",\"MohamedSalah\",\"Casemiro\"]\n",
    "Pdict = {\"LionelMessi\":0,\"ChristianoRonaldo\":1,\"Neymar\":2,\"LukaModric\":3,\"RobertLewandowski\":4,\"OlivierGiroud\":5,\"KarimBenzema\":6,\"KevinDeBruyne\":7,\"MohamedSalah\":8,\"Casemiro\":9}\n",
    "\n",
    "#Salaries\n",
    "LionelMessi_Salary = [15946875,17718750,19490625,21262500,23034375,24806250,25244493,27849149,30453805,54000000]\n",
    "ChristianoRonaldo_Salary = [12000000,12744189,13488377,14232567,14976754,16324500,18038573,19752645,21466718,23180790]\n",
    "Neymar_Salary = [4621800,5828090,13041250,14410581,15779912,14500000,16022500,17545000,19067500,20644400]\n",
    "LukaModric_Salary = [3713640,4694041,13041250,14410581,15779912,17149243,18518574,19450000,22407474,22458000]\n",
    "RobertLewandowski_Salary = [4493160,4806720,6061274,13758000,15202590,16647180,18091770,19536360,20513178,21436271]\n",
    "OlivierGiroud_Salary = [3348000,4235220,12455000,14410581,15779912,14500000,16022500,17545000,19067500,20644400]\n",
    "KarimBenzema_Salary = [3144240,3380160,3615960,4574189,13520500,14940153,16359805,17779458,18668431,20068563]\n",
    "KevinDeBruyne_Salary = [0,0,4171200,4484040,4796880,6053663,15506632,16669630,17832627,18995624]\n",
    "MohamedSalah_Salary = [0,0,0,4822800,5184480,5546160,6993708,16402500,17632688,18862875]\n",
    "Casemiro_Salary = [3031920,3841443,13041250,14410581,15779912,14200000,15691000,17182000,18673000,15000000]\n",
    "#Matrix\n",
    "Salary = np.array([LionelMessi_Salary, ChristianoRonaldo_Salary, Neymar_Salary, LukaModric_Salary, RobertLewandowski_Salary, OlivierGiroud_Salary, KarimBenzema_Salary, KevinDeBruyne_Salary, MohamedSalah_Salary, Casemiro_Salary])\n",
    "\n",
    "#Games \n",
    "LionelMessi_G = [80,77,82,82,73,82,58,78,61,35]\n",
    "ChristianoRonaldo_G = [82,57,82,79,76,72,60,72,65,80]\n",
    "Neymar_G = [79,78,75,81,76,79,62,76,77,69]\n",
    "LukaModric_G = [80,65,77,66,69,77,55,67,77,40]\n",
    "RobertLewandowski_G = [82,82,82,79,82,78,54,76,71,41]\n",
    "OlivierGiroud_G = [70,69,67,77,70,77,57,74,79,44]\n",
    "KarimBenzema_G = [78,64,80,78,45,80,60,70,62,82]\n",
    "KevinDeBruyne_G = [35,35,80,74,82,78,66,81,81,27]\n",
    "MohamedSalah_G = [40,40,40,81,78,81,39,0,10,51]\n",
    "Casemiro_G = [75,51,51,79,77,76,49,69,54,62]\n",
    "#Matrix\n",
    "Games = np.array([LionelMessi_G, ChristianoRonaldo_G, Neymar_G, LukaModric_G, RobertLewandowski_G, OlivierGiroud_G, KarimBenzema_G, KevinDeBruyne_G, MohamedSalah_G, Casemiro_G])\n",
    "\n",
    "#Field Goals\n",
    "LionelMessi_FG = [45,58,52,59,54,51,50,27,43,35]\n",
    "ChristianoRonaldo_FG = [69,61,57,55,53,49,39,44,47,16]\n",
    "Neymar_FG = [37,48,33,27,17,27,20,16,17,15]\n",
    "LukaModric_FG = [0,0,0,1,3,1,4,3,4,2]\n",
    "RobertLewandowski_FG = [48,52,58,56,51,61,41,47,46,50]\n",
    "OlivierGiroud_FG = [19,13,7,15,10,14,13,15,10,16]\n",
    "KarimBenzema_FG = [40,31,30,31,31,43,42,41,40,42]\n",
    "KevinDeBruyne_FG = [6,6,17,11,14,11,13,11,19,17]\n",
    "MohamedSalah_FG = [28,28,28,34,32,31,32,20,18,31]\n",
    "Casemiro_FG = [6,2,9,4,9,2,6,9,5,2]\n",
    "#Matrix\n",
    "FieldGoals  = np.array([LionelMessi_FG, ChristianoRonaldo_FG, Neymar_FG, LukaModric_FG, RobertLewandowski_FG, OlivierGiroud_FG, KarimBenzema_FG, KevinDeBruyne_FG, MohamedSalah_FG, Casemiro_FG])\n",
    "\n",
    "# Sum of columns (total for each season)\n",
    "sum_columns_salary = np.sum(Salary, axis=0)\n",
    "sum_columns_games = np.sum(Games, axis=0)\n",
    "sum_columns_field_goals = np.sum(FieldGoals, axis=0)\n",
    "\n",
    "print(\"Тоглогчдын цалингийн багануудын нийлбэр:\")\n",
    "print(sum_columns_salary)\n",
    "print(\"Тоглогчдын нийт тоглолтын багануудын нийлбэр:\")\n",
    "print(sum_columns_games)\n",
    "print(\"Тоглогчдын нийт гоолын багануудын нийлбэр:\")\n",
    "print(sum_columns_field_goals)\n"
   ]
  },
  {
   "cell_type": "code",
   "execution_count": 25,
   "id": "e906ed84",
   "metadata": {},
   "outputs": [
    {
     "name": "stdout",
     "output_type": "stream",
     "text": [
      "Тоглогчдын цалингийн мөрнүүдийн нийлбэр:\n",
      "[259806822 166205113 141461033 151622715 140546503 138008113 116051459\n",
      "  88510296  75445211 130851106]\n",
      "Тоглогчдын нийт тоглолтын мөрнүүдийн нийлбэр:\n",
      "[708 725 752 673 727 684 699 639 460 643]\n",
      "Тоглогчдын нийт гоолын мөрнүүдийн нийлбэр:\n",
      "[474 490 257  18 510 132 371 125 282  54]\n"
     ]
    }
   ],
   "source": [
    "# Sum of rows (total for each player)\n",
    "sum_rows_salary = np.sum(Salary, axis=1)\n",
    "sum_rows_games = np.sum(Games, axis=1)\n",
    "sum_rows_field_goals = np.sum(FieldGoals, axis=1)\n",
    "\n",
    "print(\"Тоглогчдын цалингийн мөрнүүдийн нийлбэр:\")\n",
    "print(sum_rows_salary)\n",
    "print(\"Тоглогчдын нийт тоглолтын мөрнүүдийн нийлбэр:\")\n",
    "print(sum_rows_games)\n",
    "print(\"Тоглогчдын нийт гоолын мөрнүүдийн нийлбэр:\")\n",
    "print(sum_rows_field_goals)\n"
   ]
  },
  {
   "cell_type": "code",
   "execution_count": null,
   "id": "1c87b45d",
   "metadata": {},
   "outputs": [],
   "source": []
  }
 ],
 "metadata": {
  "kernelspec": {
   "display_name": "Python 3 (ipykernel)",
   "language": "python",
   "name": "python3"
  },
  "language_info": {
   "codemirror_mode": {
    "name": "ipython",
    "version": 3
   },
   "file_extension": ".py",
   "mimetype": "text/x-python",
   "name": "python",
   "nbconvert_exporter": "python",
   "pygments_lexer": "ipython3",
   "version": "3.11.5"
  }
 },
 "nbformat": 4,
 "nbformat_minor": 5
}
