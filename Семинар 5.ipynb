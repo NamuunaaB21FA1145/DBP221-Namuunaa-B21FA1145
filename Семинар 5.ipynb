{
 "cells": [
  {
   "cell_type": "code",
   "execution_count": 13,
   "id": "cd31461e",
   "metadata": {},
   "outputs": [
    {
     "name": "stdout",
     "output_type": "stream",
     "text": [
      "Тоо оруул:7\n",
      "*\n",
      "**\n",
      "***\n",
      "****\n",
      "*****\n",
      "******\n",
      "*******\n"
     ]
    }
   ],
   "source": [
    "def print_stars(n):\n",
    "    for i in range(1, n + 1):\n",
    "        print(\"*\" * i)\n",
    "try:\n",
    "    n = int(input(\"Тоо оруул:\"))\n",
    "    print_stars(n)\n",
    "except ValueError:\n",
    "    print(\"Алдаа\")"
   ]
  },
  {
   "cell_type": "code",
   "execution_count": 14,
   "id": "47293b96",
   "metadata": {},
   "outputs": [
    {
     "name": "stdout",
     "output_type": "stream",
     "text": [
      "Тоо оруул:7\n",
      "*\n",
      "**\n",
      "***\n",
      "****\n",
      "*****\n",
      "******\n",
      "*******\n"
     ]
    }
   ],
   "source": [
    "def print_stars2(n):\n",
    "    for i in range(1, n + 1):\n",
    "        print('*' * i)\n",
    "try:\n",
    "    n = int(input(\"Тоо оруул:\"))\n",
    "    print_stars2(n)\n",
    "except ValueError:\n",
    "    print(\"Алдаа\")"
   ]
  },
  {
   "cell_type": "code",
   "execution_count": 15,
   "id": "60412752",
   "metadata": {},
   "outputs": [
    {
     "name": "stdout",
     "output_type": "stream",
     "text": [
      "Oyun Bat\n"
     ]
    }
   ],
   "source": [
    "students = {\n",
    "    'Bat': 18,\n",
    "    'Oyun': 22,\n",
    "    'Dulam': 21,\n",
    "    'Suren': 20\n",
    "}\n",
    "def max_min_key(dictionary):\n",
    "    if len(dictionary) == 0:\n",
    "        return None, None\n",
    "    else:\n",
    "        max_key = max(dictionary, key=dictionary.get)\n",
    "        min_key = min(dictionary, key=dictionary.get)\n",
    "        return max_key, min_key\n",
    "max_key, min_key = max_min_key(students)\n",
    "print(max_key,min_key)"
   ]
  },
  {
   "cell_type": "code",
   "execution_count": 16,
   "id": "f8bb4512",
   "metadata": {},
   "outputs": [
    {
     "data": {
      "text/plain": [
       "214216"
      ]
     },
     "execution_count": 16,
     "metadata": {},
     "output_type": "execute_result"
    }
   ],
   "source": [
    "import numpy as np\n",
    "array = np.arange(1, 1001)\n",
    "a= array[(array % 3 == 0) | (array % 7 == 0)]\n",
    "sum_a= np.sum(a)\n",
    "sum_a"
   ]
  }
 ],
 "metadata": {
  "kernelspec": {
   "display_name": "Python 3 (ipykernel)",
   "language": "python",
   "name": "python3"
  },
  "language_info": {
   "codemirror_mode": {
    "name": "ipython",
    "version": 3
   },
   "file_extension": ".py",
   "mimetype": "text/x-python",
   "name": "python",
   "nbconvert_exporter": "python",
   "pygments_lexer": "ipython3",
   "version": "3.11.5"
  }
 },
 "nbformat": 4,
 "nbformat_minor": 5
}
